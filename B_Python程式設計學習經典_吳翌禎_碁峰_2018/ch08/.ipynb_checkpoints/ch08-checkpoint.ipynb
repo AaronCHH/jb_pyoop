{
 "cells": [
  {
   "cell_type": "markdown",
   "metadata": {},
   "source": [
    "# Python 基本語法：物件導向"
   ]
  },
  {
   "cell_type": "markdown",
   "metadata": {},
   "source": [
    "## 8.1 物件導向概念"
   ]
  },
  {
   "cell_type": "code",
   "execution_count": 13,
   "metadata": {},
   "outputs": [],
   "source": [
    "# %load MyClass.py\n",
    "# -------------------------------\n",
    "#   Car.py\n",
    "# -------------------------------\n",
    "class Car:\n",
    "  def __init__(self, brand, model, seats, cc):\n",
    "    self.brand = brand\n",
    "    self.model = model\n",
    "    self.seats = seats\n",
    "    self.cc = cc\n",
    "\n",
    "  def display(self):\n",
    "    s = \"品牌:\"+self.brand + \"\\r\\n\"\n",
    "    s = s + \"型號:\" + self.model + \"\\r\\n\"\n",
    "    s = s + \"規格:\" + self.seats + \"座位\" + self.cc + \"CC\"\n",
    "    return s"
   ]
  },
  {
   "cell_type": "markdown",
   "metadata": {},
   "source": [
    "## 8.2 類別與物件"
   ]
  },
  {
   "cell_type": "code",
   "execution_count": 14,
   "metadata": {},
   "outputs": [],
   "source": [
    "# %load CH_8_2_EX_1_Class_Definition.py\n",
    "# -----------------------------------\n",
    "#  CH_8_2_EX_1_Class_Definition.py\n",
    "# -----------------------------------\n",
    "class Human:\n",
    "  def __init__(self, height, weight):\n",
    "    self.height = height\n",
    "    self.weight = weight\n",
    "\n",
    "  def BMI(self):\n",
    "    return self.weight / ((self.height/100)**2)"
   ]
  },
  {
   "cell_type": "code",
   "execution_count": 15,
   "metadata": {},
   "outputs": [
    {
     "name": "stdout",
     "output_type": "stream",
     "text": [
      "180\n",
      "88\n",
      "27.160493827160494\n"
     ]
    }
   ],
   "source": [
    "# %load CH_8_2_EX_2_Object_Creation_1.py\n",
    "# -------------------------------------\n",
    "#   CH_8_2_EX_2_Object_Creation_1.py\n",
    "# -------------------------------------\n",
    "class Human:\n",
    "  def __init__(self, height, weight):\n",
    "    self.height = height\n",
    "    self.weight = weight\n",
    "\n",
    "  def BMI(self):\n",
    "    return self.weight / ((self.height/100)**2)\n",
    "\n",
    "\n",
    "# 建立物件\n",
    "model_Bill = Human(180, 88)\n",
    "\n",
    "# 印出物件兩個屬性\n",
    "print(model_Bill.height)\n",
    "print(model_Bill.weight)\n",
    "\n",
    "# 使用物件方法\n",
    "print(model_Bill.BMI())"
   ]
  },
  {
   "cell_type": "code",
   "execution_count": 16,
   "metadata": {},
   "outputs": [
    {
     "name": "stdout",
     "output_type": "stream",
     "text": [
      "品牌:Nissan\r\n",
      "型號:X Trail\r\n",
      "規格:4座位2400CC\n"
     ]
    }
   ],
   "source": [
    "# %load CH_8_2_EX_3_Object_Creation_2.py\n",
    "# -------------------------------------\n",
    "#   CH_8_2_EX_3_Object_Creation_2.py\n",
    "# -------------------------------------\n",
    "class Car:\n",
    "  def __init__(self, brand, model, seats, cc):\n",
    "    self.brand = brand\n",
    "    self.model = model\n",
    "    self.seats = seats\n",
    "    self.cc = cc\n",
    "\n",
    "  def display(self):\n",
    "    s = \"品牌:\"+self.brand + \"\\r\\n\"\n",
    "    s = s + \"型號:\" + self.model + \"\\r\\n\"\n",
    "    s = s + \"規格:\" + self.seats + \"座位\" + self.cc + \"CC\"\n",
    "    return s\n",
    "\n",
    "\n",
    "# 建立物件\n",
    "mycar1 = Car(\"Nissan\", \"X Trail\", \"4\", \"2400\")\n",
    "\n",
    "# 使用物件方法\n",
    "print(mycar1.display())"
   ]
  },
  {
   "cell_type": "markdown",
   "metadata": {},
   "source": [
    "## 8.3 繼承"
   ]
  },
  {
   "cell_type": "code",
   "execution_count": 18,
   "metadata": {},
   "outputs": [],
   "source": [
    "# %load CH_8_3_EX_1_Inheritance.py\n",
    "# -------------------------------\n",
    "#   CH_8_3_EX_1_Inheritance.py\n",
    "# -------------------------------\n",
    "class Car:\n",
    "  def __init__(self, brand, model, seats, cc):\n",
    "    self.brand = brand\n",
    "    self.model = model\n",
    "    self.seats = seats\n",
    "    self.cc = cc\n",
    "\n",
    "  def display(self):\n",
    "    s = \"品牌:\"+self.brand + \"\\r\\n\"\n",
    "    s = s + \"型號:\" + self.model + \"\\r\\n\"\n",
    "    s = s + \"規格:\" + self.seats + \"座位\" + self.cc + \"CC\"\n",
    "    return s\n",
    "\n",
    "# Truck類別繼承Car類別\n",
    "class Truck(Car):\n",
    "  pass"
   ]
  },
  {
   "cell_type": "code",
   "execution_count": 19,
   "metadata": {},
   "outputs": [
    {
     "name": "stdout",
     "output_type": "stream",
     "text": [
      "品牌:Nissan\r\n",
      "型號:X Trail\r\n",
      "規格:4座位2400CC\n",
      "------------------------------\n",
      "本卡車是Ford F-150\r\n",
      "2700CC\r\n",
      "目前重量為2.2噸\r\n",
      "\n"
     ]
    }
   ],
   "source": [
    "# %load CH_8_3_EX_2_Inheritance_Using_Override_Function.py\n",
    "# -------------------------------------------------------\n",
    "#   CH_8_3_EX_2_Inheritance_Using_Override_Function.py\n",
    "# -------------------------------------------------------\n",
    "from MyClass import Car\n",
    "\n",
    "\n",
    "class Truck(Car):\n",
    "  # -----新增loading載重屬性\n",
    "  def __init__(self, brand, model, seats, cc, loading):\n",
    "\n",
    "    # -----使用super()\n",
    "    super().__init__(brand, model, seats, cc)\n",
    "    self.loading = loading\n",
    "\n",
    "# -----覆寫display()方法\n",
    "  def display(self):\n",
    "    s = \"本卡車是\" + self.brand + \" \"+self.model + \"\\r\\n\"\n",
    "    s = s + self.cc + \"CC\" + \"\\r\\n\"\n",
    "    s = s + \"目前重量為\" + self.loading + \"噸\" + \"\\r\\n\"\n",
    "    return s\n",
    "\n",
    "\n",
    "# -----建立物件\n",
    "mycar1 = Car(\"Nissan\", \"X Trail\", \"4\", \"2400\")\n",
    "mytruck1 = Truck(\"Ford\", \"F-150\", \"2\", \"2700\", \"2.2\")\n",
    "\n",
    "# -----使用物件方法\n",
    "print(mycar1.display())\n",
    "print(\"-\"*30)\n",
    "print(mytruck1.display())"
   ]
  },
  {
   "cell_type": "code",
   "execution_count": 20,
   "metadata": {},
   "outputs": [],
   "source": [
    "# %load CH_8_3_EX_2_Inheritance_Using_Super_Fuction.py\n",
    "# ---------------------------------------------------\n",
    "#   CH_8_3_EX_2_Inheritance_Using_Super_Fuction.py\n",
    "# ---------------------------------------------------\n",
    "from MyClass import Car\n",
    "\n",
    "\n",
    "class Truck(Car):\n",
    "  #----- 新增loading載重屬性\n",
    "  def __init__(self, brand, model, seats, cc, loading):\n",
    "\n",
    "    #----- 使用super()\n",
    "    super().__init__(brand, model, seats, cc)\n",
    "    self.loading = loading"
   ]
  },
  {
   "cell_type": "markdown",
   "metadata": {},
   "source": [
    "## 8.4 封裝"
   ]
  },
  {
   "cell_type": "code",
   "execution_count": 21,
   "metadata": {},
   "outputs": [
    {
     "name": "stdout",
     "output_type": "stream",
     "text": [
      "27.160493827160494\n"
     ]
    }
   ],
   "source": [
    "# %load CH_8_4_EX_1_Encapsulation_1.py\n",
    "# -----------------------------------\n",
    "#   CH_8_4_EX_1_Encapsulation_1.py\n",
    "# -----------------------------------\n",
    "class Human:\n",
    "  def __init__(self, height, weight):\n",
    "    self.__height = height\n",
    "    self.__weight = weight\n",
    "\n",
    "  def BMI(self):\n",
    "    return self.__weight / ((self.__height/100)**2)\n",
    "\n",
    "\n",
    "# -----建立物件\n",
    "model_Bill = Human(180, 88)\n",
    "\n",
    "# -----使用物件方法\n",
    "print(model_Bill.BMI())"
   ]
  },
  {
   "cell_type": "code",
   "execution_count": 22,
   "metadata": {},
   "outputs": [
    {
     "ename": "AttributeError",
     "evalue": "'Human' object has no attribute '__height'",
     "output_type": "error",
     "traceback": [
      "\u001b[1;31m---------------------------------------------------------------------------\u001b[0m",
      "\u001b[1;31mAttributeError\u001b[0m                            Traceback (most recent call last)",
      "\u001b[1;32m<ipython-input-22-ddea39f082fa>\u001b[0m in \u001b[0;36m<module>\u001b[1;34m\u001b[0m\n\u001b[0;32m     16\u001b[0m \u001b[1;33m\u001b[0m\u001b[0m\n\u001b[0;32m     17\u001b[0m \u001b[1;31m# -----印出物件兩個屬性\u001b[0m\u001b[1;33m\u001b[0m\u001b[1;33m\u001b[0m\u001b[1;33m\u001b[0m\u001b[0m\n\u001b[1;32m---> 18\u001b[1;33m \u001b[0mprint\u001b[0m\u001b[1;33m(\u001b[0m\u001b[0mmodel_Bill\u001b[0m\u001b[1;33m.\u001b[0m\u001b[0m__height\u001b[0m\u001b[1;33m)\u001b[0m\u001b[1;33m\u001b[0m\u001b[1;33m\u001b[0m\u001b[0m\n\u001b[0m\u001b[0;32m     19\u001b[0m \u001b[0mprint\u001b[0m\u001b[1;33m(\u001b[0m\u001b[0mmodel_Bill\u001b[0m\u001b[1;33m.\u001b[0m\u001b[0m__weight\u001b[0m\u001b[1;33m)\u001b[0m\u001b[1;33m\u001b[0m\u001b[1;33m\u001b[0m\u001b[0m\n",
      "\u001b[1;31mAttributeError\u001b[0m: 'Human' object has no attribute '__height'"
     ]
    }
   ],
   "source": [
    "# %load CH_8_4_EX_2_Encapsulation_2.py\n",
    "# -----------------------------------\n",
    "#   CH_8_4_EX_2_Encapsulation_2.py\n",
    "# -----------------------------------\n",
    "class Human:\n",
    "  def __init__(self, height, weight):\n",
    "    self.__height = height\n",
    "    self.__weight = weight\n",
    "\n",
    "  def BMI(self):\n",
    "    return self.__weight / ((self.__height/100)**2)\n",
    "\n",
    "\n",
    "# -----建立物件\n",
    "model_Bill = Human(180, 88)\n",
    "\n",
    "# -----印出物件兩個屬性\n",
    "print(model_Bill.__height)\n",
    "print(model_Bill.__weight)"
   ]
  },
  {
   "cell_type": "markdown",
   "metadata": {},
   "source": [
    "## 8.3 多型"
   ]
  },
  {
   "cell_type": "code",
   "execution_count": 23,
   "metadata": {},
   "outputs": [
    {
     "name": "stdout",
     "output_type": "stream",
     "text": [
      "50.0\n",
      "78.5\n"
     ]
    }
   ],
   "source": [
    "# %load CH_8_5_EX_1_ Polymorphism.py\n",
    "# ---------------------------------\n",
    "#   CH_8_5_EX_1_ Polymorphism.py\n",
    "# ---------------------------------\n",
    "class Mymath:\n",
    "  def getArea(self, radiusorbase, height=None):\n",
    "    if height is not None:\n",
    "      return (radiusorbase * (height / 2))\n",
    "    else:\n",
    "      return (3.14 * (radiusorbase * radiusorbase))\n",
    "\n",
    "\n",
    "# -----建立物件\n",
    "obj = Mymath()\n",
    "\n",
    "# -----輸入兩個參數呼叫方法計算三角形面積\n",
    "print(obj.getArea(10, 10))\n",
    "\n",
    "# -----輸入一個參數呼叫方法計算圓形面積\n",
    "print(obj.getArea(5))"
   ]
  },
  {
   "cell_type": "code",
   "execution_count": null,
   "metadata": {},
   "outputs": [],
   "source": []
  }
 ],
 "metadata": {
  "kernelspec": {
   "display_name": "Python 3",
   "language": "python",
   "name": "python3"
  },
  "language_info": {
   "codemirror_mode": {
    "name": "ipython",
    "version": 3
   },
   "file_extension": ".py",
   "mimetype": "text/x-python",
   "name": "python",
   "nbconvert_exporter": "python",
   "pygments_lexer": "ipython3",
   "version": "3.8.3"
  },
  "toc": {
   "base_numbering": 1,
   "nav_menu": {},
   "number_sections": true,
   "sideBar": true,
   "skip_h1_title": false,
   "title_cell": "Table of Contents",
   "title_sidebar": "Contents",
   "toc_cell": false,
   "toc_position": {},
   "toc_section_display": true,
   "toc_window_display": false
  },
  "varInspector": {
   "cols": {
    "lenName": 16,
    "lenType": 16,
    "lenVar": 40
   },
   "kernels_config": {
    "python": {
     "delete_cmd_postfix": "",
     "delete_cmd_prefix": "del ",
     "library": "var_list.py",
     "varRefreshCmd": "print(var_dic_list())"
    },
    "r": {
     "delete_cmd_postfix": ") ",
     "delete_cmd_prefix": "rm(",
     "library": "var_list.r",
     "varRefreshCmd": "cat(var_dic_list()) "
    }
   },
   "types_to_exclude": [
    "module",
    "function",
    "builtin_function_or_method",
    "instance",
    "_Feature"
   ],
   "window_display": false
  }
 },
 "nbformat": 4,
 "nbformat_minor": 4
}
