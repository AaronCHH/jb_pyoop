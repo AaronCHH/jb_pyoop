{
 "cells": [
  {
   "cell_type": "markdown",
   "metadata": {},
   "source": [
    "# Ch05 封裝(Encapsulation)"
   ]
  },
  {
   "cell_type": "markdown",
   "metadata": {},
   "source": [
    "## 5.2 封裝(Encapsulation)"
   ]
  },
  {
   "cell_type": "code",
   "execution_count": null,
   "metadata": {},
   "outputs": [],
   "source": [
    "# %load ex05-01.py\n",
    "class Tree():\n",
    "  pass\n",
    "\n",
    "if __name__ == '__main__':\n",
    "    a = Tree\n",
    "    print(\"Object is created\")"
   ]
  },
  {
   "cell_type": "code",
   "execution_count": null,
   "metadata": {},
   "outputs": [],
   "source": [
    "# %load ex05-02.py\n",
    "class Tree():\n",
    "  def input(self, hei):\n",
    "    self.variety = None\n",
    "    self.age = None\n",
    "    self.height = hei\n",
    "\n",
    "\n",
    "if __name__ == '__main__':\n",
    "  a = Tree()\n",
    "  a.input(2.1)\n",
    "  print(\"Set a.height to  \", a.height)"
   ]
  },
  {
   "cell_type": "code",
   "execution_count": null,
   "metadata": {},
   "outputs": [],
   "source": [
    "# %load ex05-03.py\n",
    "class Tree():\n",
    "  def input(self, hei):\n",
    "    self.variety = None\n",
    "    self.age = None\n",
    "    self.height = hei\n",
    "\n",
    "  def input(self, hei):\n",
    "    self.height = hei\n",
    "\n",
    "  def inquireHeight(self):\n",
    "    return self.height\n",
    "\n",
    "\n",
    "if __name__ == '__main__':\n",
    "  a = Tree()\n",
    "  a.input(2.1)\n",
    "  h = a.inquireHeight()\n",
    "  print(\"height = \", h, \"公尺\")"
   ]
  },
  {
   "cell_type": "markdown",
   "metadata": {},
   "source": [
    "## 5.3 私有屬性與函數"
   ]
  },
  {
   "cell_type": "code",
   "execution_count": null,
   "metadata": {},
   "outputs": [],
   "source": [
    "# %load ex05-05.py\n",
    "class Tree():\n",
    "  def input(self, hei):\n",
    "    self.variety = None\n",
    "    self.age = None\n",
    "    self.height = None\n",
    "\n",
    "if __name__ == '__main__':\n",
    "  a = Tree()\n",
    "  a.height = 2.1\n",
    "  print(\"Set a.height to \", a.height)"
   ]
  },
  {
   "cell_type": "code",
   "execution_count": null,
   "metadata": {},
   "outputs": [],
   "source": [
    "# %load ex05-07.py\n",
    "class Tree():\n",
    "  def input(self, hei):\n",
    "    self.variety = None\n",
    "    self.age = None\n",
    "    self.__height = 2.1\n",
    "\n",
    "if __name__ == '__main__':\n",
    "  a = Tree()\n",
    "  print(\"height = \", a.__height)"
   ]
  },
  {
   "cell_type": "code",
   "execution_count": null,
   "metadata": {},
   "outputs": [],
   "source": [
    "# %load ex05-08.py\n",
    "class Tree():\n",
    "  def input(self, hei):\n",
    "    self.variety = None\n",
    "    self.age = None\n",
    "    self.__height = 2.1\n",
    "\n",
    "  def input(self, hei):\n",
    "    self.__height = hei\n",
    "\n",
    "  def disp(self):\n",
    "    print(\"height = \", a.__height)\n",
    "\n",
    "\n",
    "if __name__ == '__main__':\n",
    "  a = Tree()\n",
    "  a.input(2.1)\n",
    "  a.disp()\n"
   ]
  },
  {
   "cell_type": "code",
   "execution_count": null,
   "metadata": {},
   "outputs": [],
   "source": [
    "# %load ex05-10.py\n",
    "class Tree():\n",
    "  def input(self, hei):\n",
    "    self.__variety = None\n",
    "    self.__height = 2.1\n",
    "    self.age = None\n",
    "\n",
    "  def ShowAge(self):\n",
    "    print(\"Age = \", self.age)\n",
    "\n",
    "\n",
    "if __name__ == '__main__':\n",
    "  a = Tree()\n",
    "  a.age = 8\n",
    "  a.age += 2\n",
    "  a.ShowAge()\n"
   ]
  },
  {
   "cell_type": "code",
   "execution_count": null,
   "metadata": {},
   "outputs": [],
   "source": [
    "# %load ex05-11.py\n",
    "class Tree():\n",
    "  def input(self, v, a, hei):\n",
    "    self.__variety = v\n",
    "    self.__age = a\n",
    "    self.__height = hei\n",
    "\n",
    "  def Show(self):\n",
    "    print(self.__variety, self.__age, self.__height)\n",
    "\n",
    "\n",
    "if __name__ == '__main__':\n",
    "  a = Tree()\n",
    "  b = Tree()\n",
    "  a.input(\"peach\", 8, 2.1)\n",
    "  b.input(\"pineapple\", 2, 0.5)\n",
    "\n",
    "  a.Show()\n",
    "  b.Show()\n"
   ]
  },
  {
   "cell_type": "markdown",
   "metadata": {},
   "source": [
    "## 5.4 類別層級屬性"
   ]
  },
  {
   "cell_type": "code",
   "execution_count": null,
   "metadata": {},
   "outputs": [],
   "source": [
    "# %load ex05-12.py\n",
    "class Employee():\n",
    "  temp = 0\n",
    "\n",
    "  def __init__(self, na, sa):\n",
    "    self.emp_name = na\n",
    "    self.salary = sa\n",
    "\n",
    "  def save_to_temp(self):\n",
    "    Employee.temp = self.salary\n",
    "\n",
    "  def load_from_temp(self):\n",
    "    self.salary = Employee.temp\n",
    "\n",
    "  def Display(self):\n",
    "    print(\"Name=\", self.emp_name, \", Salary:\", self.salary)\n",
    "\n",
    "\n",
    "if __name__ == '__main__':\n",
    "  tom = Employee(\"Tom\", 7777.25)\n",
    "  peter = Employee(\"Peter\", 1643.5)\n",
    "\n",
    "  tom.save_to_temp()\n",
    "  peter.load_from_temp()\n",
    "\n",
    "  peter.Display()"
   ]
  },
  {
   "cell_type": "code",
   "execution_count": null,
   "metadata": {},
   "outputs": [],
   "source": [
    "# %load ex05-13.py\n",
    "class Employee():\n",
    "  counter = 0\n",
    "  sum = 0\n",
    "\n",
    "  def __init__(self, na, sa):\n",
    "    self.emp_name = na\n",
    "    self.salary = sa\n",
    "    Employee.counter += 1\n",
    "    Employee.sum += self.salary\n",
    "\n",
    "  def Display_Avg(self):\n",
    "    print(\"The number of employee:\", Employee.counter)\n",
    "    print(\"Average salary:\", Employee.sum / Employee.counter)\n",
    "\n",
    "  def Display(self):\n",
    "    print(\"Name=\", self.emp_name, \", Salary:\", self.salary)\n",
    "\n",
    "\n",
    "if __name__ == '__main__':\n",
    "  e1 = Employee(\"Tom\", 25000.0)\n",
    "  e2 = Employee(\"Lily\", 20000.0)\n",
    "  e1.Display()\n",
    "  e2.Display()\n",
    "  e1.Display_Avg()"
   ]
  },
  {
   "cell_type": "markdown",
   "metadata": {},
   "source": [
    "## 5.5 類別層級函數"
   ]
  },
  {
   "cell_type": "code",
   "execution_count": null,
   "metadata": {},
   "outputs": [],
   "source": [
    "# %load ex05-14.py\n",
    "class Employee():\n",
    "  counter = 0\n",
    "  sum = 0\n",
    "\n",
    "  @classmethod\n",
    "  def NumberOfObject(cls):\n",
    "    return cls.counter\n",
    "\n",
    "  @classmethod\n",
    "  def Average(cls):\n",
    "    return cls.sum / cls.counter\n",
    "\n",
    "  @classmethod\n",
    "  def Display_Avg(cls):\n",
    "    print(\"Average salary:\", cls.Average())\n",
    "\n",
    "  def __init__(self, na, sa):\n",
    "    self.emp_name = na\n",
    "    self.salary = sa\n",
    "    Employee.counter += 1\n",
    "    Employee.sum += self.salary\n",
    "\n",
    "  def display(self):\n",
    "    print(\"Number of Employee:\", Employee.NumberOfObject())\n",
    "\n",
    "\n",
    "if __name__ == '__main__':\n",
    "  e1 = Employee(\"Tom\", 25000.0)\n",
    "  e2 = Employee(\"Lily\", 20000.0)\n",
    "  e1.display()\n",
    "  Employee.Display_Avg()"
   ]
  }
 ],
 "metadata": {
  "kernelspec": {
   "display_name": "Python 3",
   "language": "python",
   "name": "python3"
  },
  "language_info": {
   "codemirror_mode": {
    "name": "ipython",
    "version": 3
   },
   "file_extension": ".py",
   "mimetype": "text/x-python",
   "name": "python",
   "nbconvert_exporter": "python",
   "pygments_lexer": "ipython3",
   "version": "3.8.3"
  },
  "toc": {
   "base_numbering": 1,
   "nav_menu": {},
   "number_sections": true,
   "sideBar": true,
   "skip_h1_title": false,
   "title_cell": "Table of Contents",
   "title_sidebar": "Contents",
   "toc_cell": false,
   "toc_position": {},
   "toc_section_display": true,
   "toc_window_display": false
  },
  "varInspector": {
   "cols": {
    "lenName": 16,
    "lenType": 16,
    "lenVar": 40
   },
   "kernels_config": {
    "python": {
     "delete_cmd_postfix": "",
     "delete_cmd_prefix": "del ",
     "library": "var_list.py",
     "varRefreshCmd": "print(var_dic_list())"
    },
    "r": {
     "delete_cmd_postfix": ") ",
     "delete_cmd_prefix": "rm(",
     "library": "var_list.r",
     "varRefreshCmd": "cat(var_dic_list()) "
    }
   },
   "types_to_exclude": [
    "module",
    "function",
    "builtin_function_or_method",
    "instance",
    "_Feature"
   ],
   "window_display": false
  }
 },
 "nbformat": 4,
 "nbformat_minor": 4
}
