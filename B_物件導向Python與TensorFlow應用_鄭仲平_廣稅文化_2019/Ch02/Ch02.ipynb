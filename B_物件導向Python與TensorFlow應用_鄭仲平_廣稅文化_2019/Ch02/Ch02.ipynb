{
 "cells": [
  {
   "cell_type": "markdown",
   "metadata": {},
   "source": [
    "# Ch02 物件與類別"
   ]
  },
  {
   "cell_type": "markdown",
   "metadata": {},
   "source": [
    "## 2.4 AKO 抽象關係"
   ]
  },
  {
   "cell_type": "code",
   "execution_count": 8,
   "metadata": {},
   "outputs": [
    {
     "name": "stdout",
     "output_type": "stream",
     "text": [
      "Rose 2 3.5\n"
     ]
    }
   ],
   "source": [
    "# %load ex02-01.py\n",
    "# Ex02-01\n",
    "class Tree():\n",
    "  def __init__(self, v, a, h):\n",
    "    self.variety = v\n",
    "    self.age = a\n",
    "    self.height = h\n",
    "\n",
    "\n",
    "if __name__ == '__main__':\n",
    "  x = Tree(\"Rose\", 2, 3.5)\n",
    "  print(x.variety, x.age, x.height)"
   ]
  },
  {
   "cell_type": "code",
   "execution_count": 9,
   "metadata": {},
   "outputs": [
    {
     "name": "stdout",
     "output_type": "stream",
     "text": [
      "peach 2.1 3 20\n",
      "green 2 10.0 chopstick\n"
     ]
    }
   ],
   "source": [
    "# %load ex02-03.py\n",
    "# Ex02-01\n",
    "class Tree():\n",
    "  def __init__(self, v, a, h):\n",
    "    self.variety = v\n",
    "    self.age = a\n",
    "    self.height = h\n",
    "\n",
    "\n",
    "class FruitTree(Tree):\n",
    "  def __init__(self, v, a, h, m, p):\n",
    "    self.variety = v\n",
    "    self.age = a\n",
    "    self.height = h\n",
    "    self.month = m\n",
    "    self.price = p\n",
    "\n",
    "\n",
    "class Bamboo(Tree):\n",
    "  def __init__(self, v, a, h, u):\n",
    "    self.variety = v\n",
    "    self.age = a\n",
    "    self.height = h\n",
    "    self.usage = u\n",
    "\n",
    "\n",
    "if __name__ == '__main__':\n",
    "  x = FruitTree(\"peach\", 8, 2.1, 3, 20)\n",
    "  print(x.variety, x.height, x.month, x.price)\n",
    "\n",
    "  a = Bamboo(\"green\", 2, 10.0, \"chopstick\")\n",
    "  print(a.variety, a.age, a.height, a.usage)"
   ]
  },
  {
   "cell_type": "markdown",
   "metadata": {},
   "source": [
    "## 2.5 物件行為與介面"
   ]
  },
  {
   "cell_type": "code",
   "execution_count": 10,
   "metadata": {},
   "outputs": [
    {
     "name": "stdout",
     "output_type": "stream",
     "text": [
      "500 2.1\n",
      "250 0.5\n"
     ]
    }
   ],
   "source": [
    "# %load ex02-06.py\n",
    "# Ex02-01\n",
    "class Tree():\n",
    "  def __init__(self, v, a, h):\n",
    "    self.variety = v\n",
    "    self.age = a\n",
    "    self.height = h\n",
    "\n",
    "\n",
    "class FruitTree(Tree):\n",
    "  def __init__(self, v, a, h, m, p):\n",
    "    self.variety = v\n",
    "    self.age = a\n",
    "    self.height = h\n",
    "    self.month = m\n",
    "    self.price = p\n",
    "\n",
    "  def computeAmount(self, weight):\n",
    "    return weight * self.price\n",
    "\n",
    "  def inquireHeight(self):\n",
    "    return self.height\n",
    "\n",
    "\n",
    "class Bamboo(Tree):\n",
    "  def __init__(self, v, a, h, u):\n",
    "    self.variety = v\n",
    "    self.age = a\n",
    "    self.height = h\n",
    "    self.usage = u\n",
    "\n",
    "\n",
    "if __name__ == '__main__':\n",
    "  a = FruitTree(\"peach\", 8, 2.1, 3, 20)\n",
    "  k = FruitTree(\"Apple\", 5, 0.5, 7, 10)\n",
    "\n",
    "  amount = a.computeAmount(25)\n",
    "  height = a.inquireHeight()\n",
    "  print(amount, height)\n",
    "\n",
    "  amount = k.computeAmount(25)\n",
    "  height = k.inquireHeight()\n",
    "  print(amount, height)"
   ]
  },
  {
   "cell_type": "code",
   "execution_count": 11,
   "metadata": {},
   "outputs": [
    {
     "name": "stdout",
     "output_type": "stream",
     "text": [
      "750 2.6\n"
     ]
    }
   ],
   "source": [
    "# %load ex02-07.py\n",
    "# Ex02-01\n",
    "class Tree():\n",
    "  def __init__(self, v, a, h):\n",
    "    self.variety = v\n",
    "    self.age = a\n",
    "    self.height = h\n",
    "\n",
    "\n",
    "class FruitTree(Tree):\n",
    "  def __init__(self, v, a, h, m, p):\n",
    "    self.variety = v\n",
    "    self.age = a\n",
    "    self.height = h\n",
    "    self.month = m\n",
    "    self.price = p\n",
    "\n",
    "  def computeAmount(self, weight):\n",
    "    return weight * self.price\n",
    "\n",
    "  def inquireHeight(self):\n",
    "    return self.height\n",
    "\n",
    "  def SetHeight(self, h):\n",
    "    self.height = h\n",
    "\n",
    "  def SetPrice(self, p):\n",
    "    self.price = p\n",
    "\n",
    "\n",
    "class Bamboo(Tree):\n",
    "  def __init__(self, v, a, h, u):\n",
    "    self.variety = v\n",
    "    self.age = a\n",
    "    self.height = h\n",
    "    self.usage = u\n",
    "\n",
    "\n",
    "if __name__ == '__main__':\n",
    "  a = FruitTree(\"peach\", 8, 2.1, 3, 20)\n",
    "\n",
    "  a.SetPrice(30)\n",
    "  a.SetHeight(2.6)\n",
    "\n",
    "  amount = a.computeAmount(25)\n",
    "  height = a.inquireHeight()\n",
    "  print(amount, height)"
   ]
  }
 ],
 "metadata": {
  "kernelspec": {
   "display_name": "Python 3",
   "language": "python",
   "name": "python3"
  },
  "language_info": {
   "codemirror_mode": {
    "name": "ipython",
    "version": 3
   },
   "file_extension": ".py",
   "mimetype": "text/x-python",
   "name": "python",
   "nbconvert_exporter": "python",
   "pygments_lexer": "ipython3",
   "version": "3.8.3"
  },
  "toc": {
   "base_numbering": 1,
   "nav_menu": {},
   "number_sections": true,
   "sideBar": true,
   "skip_h1_title": false,
   "title_cell": "Table of Contents",
   "title_sidebar": "Contents",
   "toc_cell": false,
   "toc_position": {},
   "toc_section_display": true,
   "toc_window_display": false
  },
  "varInspector": {
   "cols": {
    "lenName": 16,
    "lenType": 16,
    "lenVar": 40
   },
   "kernels_config": {
    "python": {
     "delete_cmd_postfix": "",
     "delete_cmd_prefix": "del ",
     "library": "var_list.py",
     "varRefreshCmd": "print(var_dic_list())"
    },
    "r": {
     "delete_cmd_postfix": ") ",
     "delete_cmd_prefix": "rm(",
     "library": "var_list.r",
     "varRefreshCmd": "cat(var_dic_list()) "
    }
   },
   "types_to_exclude": [
    "module",
    "function",
    "builtin_function_or_method",
    "instance",
    "_Feature"
   ],
   "window_display": false
  }
 },
 "nbformat": 4,
 "nbformat_minor": 4
}
