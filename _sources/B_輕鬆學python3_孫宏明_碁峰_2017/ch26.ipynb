{
 "cells": [
  {
   "cell_type": "markdown",
   "id": "composed-screw",
   "metadata": {},
   "source": [
    "# ch26 物件和類別"
   ]
  },
  {
   "cell_type": "markdown",
   "id": "european-symbol",
   "metadata": {},
   "source": [
    "## 26-1 結構化程式設計和物件導向程式設計"
   ]
  },
  {
   "cell_type": "code",
   "execution_count": null,
   "id": "familiar-tracy",
   "metadata": {},
   "outputs": [],
   "source": [
    "# %load \"26-1/main.py\"\n",
    "# 載入math套件，我們要用它的圓周率pi值\n",
    "import math\n",
    "\n",
    "# 把圓的半徑儲存在一個list資料組\n",
    "circle_radius = [1, 2, 3, 4, 5]\n",
    "\n",
    "print('\\n圓面積: ', end='')\n",
    "for radius in circle_radius:\n",
    "  area = math.pi * radius * radius   # 計算圓面積的公式\n",
    "\n",
    "  # 利用字串物件的format()方法設定取2位小數\n",
    "  print('{:.2f}'.format(area), end=' ')\n",
    "\n",
    "print('\\n圓周長: ', end='')\n",
    "for radius in circle_radius:\n",
    "  perimeter = 2 * math.pi * radius   # 計算圓周長度的公式\n",
    "\n",
    "  # 利用字串物件的format()方法設定取2位小數\n",
    "  print('{:.2f}'.format(perimeter), end=' ')"
   ]
  },
  {
   "cell_type": "markdown",
   "id": "thorough-mechanics",
   "metadata": {},
   "source": [
    "## 26-3 實作物件導向程式專案"
   ]
  },
  {
   "cell_type": "code",
   "execution_count": null,
   "id": "empirical-melissa",
   "metadata": {},
   "outputs": [],
   "source": [
    "# %load \"26-3/Graph/main.py\"\n",
    "# 載入shape套件\n",
    "import shape as sh\n",
    "\n",
    "circle_radius = [1, 2, 3, 4, 5]\n",
    "circles = []   # 儲存Circle物件的資料組\n",
    "\n",
    "# 用for迴圈建立5個Circle物件，把它們存入circles資料組\n",
    "for radius in circle_radius:\n",
    "    c = sh.Circle(radius)\n",
    "    circles += [c]\n",
    "\n",
    "# 顯示Circle物件的面積\n",
    "print('\\n圓面積: ', end='')\n",
    "for c in circles:\n",
    "    # 利用字串物件的format()方法設定取2位小數\n",
    "    print('{:.2f}'.format(c.get_area()), end=' ')\n",
    "\n",
    "# 顯示Circle物件的周長\n",
    "print('\\n圓周長: ', end='')\n",
    "for c in circles:\n",
    "    # 利用字串物件的format()方法設定取2位小數\n",
    "    print('{:.2f}'.format(c.get_perimeter()), end=' ')\n"
   ]
  },
  {
   "cell_type": "code",
   "execution_count": null,
   "id": "ongoing-wireless",
   "metadata": {},
   "outputs": [],
   "source": [
    "# %load \"26-3/Graph/shape/circle.py\"\n",
    "# 載入math套件，我們要用它的圓周率pi值\n",
    "import math\n",
    "\n",
    "\n",
    "class Circle:\n",
    "  # 建構式的第二個參數是用來接收傳入的半徑\n",
    "  def __init__(self, radius):\n",
    "    # 利用self參數建立儲存資料的變數\n",
    "    # 然後把半徑存入這個變數\n",
    "    self._radius = radius\n",
    "\n",
    "  # 這個方法用來取得半徑\n",
    "  def get_radius(self):\n",
    "    return self._radius  # 傳回類別內部變數的值\n",
    "\n",
    "  # 這個方法用來設定半徑，第二個參數用來傳入半徑\n",
    "  def set_radius(self, radius):\n",
    "    self._radius = radius  # 把半徑存入類別內部的變數\n",
    "\n",
    "  # 這個方法用來取得圓面積\n",
    "  def get_area(self):\n",
    "    # 利用類別內部的變數計算圓面積，然後傳回結果\n",
    "    return math.pi * self._radius * self._radius\n",
    "\n",
    "  # 這個方法用來取得圓周長度\n",
    "  def get_perimeter(self):\n",
    "    # 利用類別內部的變數計算圓周長度，然後傳回結果\n",
    "    return 2 * math.pi * self._radius"
   ]
  },
  {
   "cell_type": "code",
   "execution_count": null,
   "id": "virtual-evening",
   "metadata": {},
   "outputs": [],
   "source": []
  }
 ],
 "metadata": {
  "kernelspec": {
   "display_name": "Python 3",
   "language": "python",
   "name": "python3"
  },
  "language_info": {
   "codemirror_mode": {
    "name": "ipython",
    "version": 3
   },
   "file_extension": ".py",
   "mimetype": "text/x-python",
   "name": "python",
   "nbconvert_exporter": "python",
   "pygments_lexer": "ipython3",
   "version": "3.8.6"
  },
  "toc": {
   "base_numbering": 1,
   "nav_menu": {},
   "number_sections": true,
   "sideBar": true,
   "skip_h1_title": false,
   "title_cell": "Table of Contents",
   "title_sidebar": "Contents",
   "toc_cell": false,
   "toc_position": {},
   "toc_section_display": true,
   "toc_window_display": false
  },
  "varInspector": {
   "cols": {
    "lenName": 16,
    "lenType": 16,
    "lenVar": 40
   },
   "kernels_config": {
    "python": {
     "delete_cmd_postfix": "",
     "delete_cmd_prefix": "del ",
     "library": "var_list.py",
     "varRefreshCmd": "print(var_dic_list())"
    },
    "r": {
     "delete_cmd_postfix": ") ",
     "delete_cmd_prefix": "rm(",
     "library": "var_list.r",
     "varRefreshCmd": "cat(var_dic_list()) "
    }
   },
   "types_to_exclude": [
    "module",
    "function",
    "builtin_function_or_method",
    "instance",
    "_Feature"
   ],
   "window_display": false
  }
 },
 "nbformat": 4,
 "nbformat_minor": 5
}
