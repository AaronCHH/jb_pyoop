{
 "cells": [
  {
   "cell_type": "markdown",
   "id": "optical-threat",
   "metadata": {},
   "source": [
    "# ch29 多型"
   ]
  },
  {
   "cell_type": "markdown",
   "id": "statewide-peter",
   "metadata": {},
   "source": [
    "## 29-1 多型"
   ]
  },
  {
   "cell_type": "code",
   "execution_count": null,
   "id": "veterinary-confidence",
   "metadata": {},
   "outputs": [],
   "source": [
    "# %load \"29-1/Graph/shape/circle.py\"\n",
    "# 載入math模組，我們要使用它的pi值\n",
    "import math\n",
    "\n",
    "\n",
    "class Circle:\n",
    "  def __init__(self, radius):\n",
    "    self.__radius = radius\n",
    "\n",
    "  def show_shape_info(self):\n",
    "    print('圓形，半徑' + str(self.__radius))\n",
    "\n",
    "  def get_area(self):\n",
    "    return math.pi * self.__radius * self.__radius"
   ]
  },
  {
   "cell_type": "code",
   "execution_count": null,
   "id": "economic-belly",
   "metadata": {},
   "outputs": [],
   "source": [
    "# %load \"29-1/Graph/shape/rectangle.py\"\n",
    "class Rectangle:\n",
    "  def __init__(self, length, width):\n",
    "    self.__length = length\n",
    "    self.__width = width\n",
    "\n",
    "  def show_shape_info(self):\n",
    "    print('矩形，長' + str(self.__length) + '，'\n",
    "          + '寬' + str(self.__width))\n",
    "\n",
    "  def get_area(self):\n",
    "    return self.__length * self.__width"
   ]
  },
  {
   "cell_type": "code",
   "execution_count": null,
   "id": "united-arcade",
   "metadata": {},
   "outputs": [],
   "source": [
    "# %load \"29-1/Graph/shape/triangle.py\"\n",
    "class Triangle:\n",
    "  def __init__(self, bottom, height):\n",
    "    self.__bottom = bottom\n",
    "    self.__height = height\n",
    "\n",
    "  def show_shape_info(self):\n",
    "    print('三角形，底' + str(self.__bottom) + '，'\n",
    "          + '高' + str(self.__height))\n",
    "\n",
    "  def get_area(self):\n",
    "    return self.__bottom * self.__height / 2"
   ]
  },
  {
   "cell_type": "code",
   "execution_count": null,
   "id": "heated-annual",
   "metadata": {},
   "outputs": [],
   "source": [
    "# %load \"29-1/Graph/main.py\n",
    "import shape as sh\n",
    "\n",
    "# 建立Circle、Rectangle和Triangle類別的物件\n",
    "c = sh.Circle(10)\n",
    "r = sh.Rectangle(5, 2)\n",
    "t = sh.Triangle(8, 3)\n",
    "\n",
    "# 把物件加入Tuple資料組\n",
    "shapes = c, r, t\n",
    "\n",
    "# 用For迴圈顯示每一個物件的內容和面積\n",
    "for s in shapes:\n",
    "  s.show_shape_info()\n",
    "  print('面積：' + str(s.get_area()))"
   ]
  },
  {
   "cell_type": "markdown",
   "id": "numerical-profit",
   "metadata": {},
   "source": [
    "## 29-2 用繼承實作多型"
   ]
  },
  {
   "cell_type": "code",
   "execution_count": null,
   "id": "alleged-example",
   "metadata": {},
   "outputs": [],
   "source": [
    "# %load \"29-2/Graph2/shape/shapeobject.py\"\n",
    "class ShapeObject:\n",
    "  def show_shape_info(self):\n",
    "    raise NotImplementedError(\n",
    "      '子類別必須覆寫show_shape_info()方法')\n",
    "\n",
    "  def get_area(self):\n",
    "    raise NotImplementedError(\n",
    "      '子類別必須覆寫get_area()方法')"
   ]
  },
  {
   "cell_type": "code",
   "execution_count": null,
   "id": "consistent-refund",
   "metadata": {},
   "outputs": [],
   "source": [
    "# %load \"29-2/Graph2/shape/circle.py\"\n",
    "from shape.shapeobject import *\n",
    "import math   # 載入math模組，我們要使用它的pi值\n",
    "\n",
    "\n",
    "class Circle(ShapeObject):\n",
    "  def __init__(self, radius):\n",
    "    self.__radius = radius\n",
    "\n",
    "  def show_shape_info(self):\n",
    "    print('圓形，半徑' + str(self.__radius))\n",
    "\n",
    "  def get_area(self):\n",
    "    return math.pi * self.__radius * self.__radius"
   ]
  },
  {
   "cell_type": "code",
   "execution_count": null,
   "id": "weird-gazette",
   "metadata": {},
   "outputs": [],
   "source": [
    "# %load \"29-2/Graph2/shape/rectangle.py\"\n",
    "from shape.shapeobject import *\n",
    "\n",
    "\n",
    "class Rectangle(ShapeObject):\n",
    "  def __init__(self, length, width):\n",
    "    self.__length = length\n",
    "    self.__width = width\n",
    "\n",
    "  def show_shape_info(self):\n",
    "    print('矩形，長' + str(self.__length) + '，'\n",
    "          + '寬' + str(self.__width))\n",
    "\n",
    "  def get_area(self):\n",
    "    return self.__length * self.__width"
   ]
  },
  {
   "cell_type": "code",
   "execution_count": null,
   "id": "perceived-forest",
   "metadata": {},
   "outputs": [],
   "source": [
    "# %load \"29-2/Graph2/shape/triangle.py\"\n",
    "from shape.shapeobject import *\n",
    "\n",
    "\n",
    "class Triangle(ShapeObject):\n",
    "  def __init__(self, bottom, height):\n",
    "    self.__bottom = bottom\n",
    "    self.__height = height\n",
    "\n",
    "  def show_shape_info(self):\n",
    "    print('三角形，底' + str(self.__bottom) + '，'\n",
    "          + '高' + str(self.__height))\n",
    "\n",
    "  def get_area(self):\n",
    "    return self.__bottom * self.__height / 2"
   ]
  },
  {
   "cell_type": "code",
   "execution_count": null,
   "id": "curious-breathing",
   "metadata": {},
   "outputs": [],
   "source": [
    "# %load \"29-2/Graph2/main.py\"\n",
    "import shape as sh\n",
    "\n",
    "# 建立Circle、Rectangle和Triangle類別的物件\n",
    "c = sh.Circle(10)\n",
    "r = sh.Rectangle(5, 2)\n",
    "t = sh.Triangle(8, 3)\n",
    "\n",
    "# 把物件加入Tuple資料組\n",
    "shapes = c, r, t\n",
    "\n",
    "# 用For迴圈顯示每一個物件的內容和面積\n",
    "for s in shapes:\n",
    "  s.show_shape_info()\n",
    "  print('面積：' + str(s.get_area()))"
   ]
  },
  {
   "cell_type": "code",
   "execution_count": null,
   "id": "previous-procedure",
   "metadata": {},
   "outputs": [],
   "source": []
  }
 ],
 "metadata": {
  "kernelspec": {
   "display_name": "Python 3",
   "language": "python",
   "name": "python3"
  },
  "language_info": {
   "codemirror_mode": {
    "name": "ipython",
    "version": 3
   },
   "file_extension": ".py",
   "mimetype": "text/x-python",
   "name": "python",
   "nbconvert_exporter": "python",
   "pygments_lexer": "ipython3",
   "version": "3.8.6"
  },
  "toc": {
   "base_numbering": 1,
   "nav_menu": {},
   "number_sections": true,
   "sideBar": true,
   "skip_h1_title": false,
   "title_cell": "Table of Contents",
   "title_sidebar": "Contents",
   "toc_cell": false,
   "toc_position": {},
   "toc_section_display": true,
   "toc_window_display": false
  },
  "varInspector": {
   "cols": {
    "lenName": 16,
    "lenType": 16,
    "lenVar": 40
   },
   "kernels_config": {
    "python": {
     "delete_cmd_postfix": "",
     "delete_cmd_prefix": "del ",
     "library": "var_list.py",
     "varRefreshCmd": "print(var_dic_list())"
    },
    "r": {
     "delete_cmd_postfix": ") ",
     "delete_cmd_prefix": "rm(",
     "library": "var_list.r",
     "varRefreshCmd": "cat(var_dic_list()) "
    }
   },
   "types_to_exclude": [
    "module",
    "function",
    "builtin_function_or_method",
    "instance",
    "_Feature"
   ],
   "window_display": false
  }
 },
 "nbformat": 4,
 "nbformat_minor": 5
}
