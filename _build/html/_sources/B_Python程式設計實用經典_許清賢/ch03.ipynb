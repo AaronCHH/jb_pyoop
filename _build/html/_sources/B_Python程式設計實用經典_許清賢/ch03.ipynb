{
 "cells": [
  {
   "cell_type": "markdown",
   "metadata": {},
   "source": [
    "# Ch03 類別結構及功能"
   ]
  },
  {
   "cell_type": "markdown",
   "metadata": {},
   "source": [
    "## 3.1 類別結構與宣告"
   ]
  },
  {
   "cell_type": "code",
   "execution_count": 21,
   "metadata": {},
   "outputs": [
    {
     "name": "stdout",
     "output_type": "stream",
     "text": [
      "John 35 University Golf\n",
      "Lucy 32 Master joggling\n"
     ]
    }
   ],
   "source": [
    "# %load person.py\n",
    "#filename: person.py\n",
    "# function: use _init_ to create the Attribute of object\n",
    "\n",
    "class person:\n",
    "  def __init__(self, name, age, edu, hobby):\n",
    "    self.name = name\n",
    "    self.age = age\n",
    "    self.education = edu\n",
    "    self.hobby = hobby\n",
    "\n",
    "\n",
    "John_Pan = person('John', 35, \"University\", \"Golf\")\n",
    "Lucy = person('Lucy', 32, \"Master\", \"joggling\")\n",
    "\n",
    "print(John_Pan.name, John_Pan.age, John_Pan.education, John_Pan.hobby)\n",
    "print(Lucy.name, Lucy.age, Lucy.education, Lucy.hobby)"
   ]
  },
  {
   "cell_type": "code",
   "execution_count": 22,
   "metadata": {},
   "outputs": [
    {
     "name": "stdout",
     "output_type": "stream",
     "text": [
      "\n",
      "Please key in your Card password!!!\n",
      "222222\n",
      "\t_init_ contstructor is processing\n",
      "your current balance of card is: 100\n",
      "\n",
      " start to prcocess the class object acct1\n",
      "Deposit amount is  2000\n",
      "Deposit amount is  10000\n",
      "Withdraw amount is  5000\n",
      "the bank balaance is  7100\n",
      "\n",
      " start to prcocess the class object acct2\n",
      "\t_init_ contstructor is processing\n",
      "Deposit amount is  3000\n",
      "Withdraw amount is  2000\n",
      "the bank balance is  1100\n"
     ]
    }
   ],
   "source": [
    "# %load class_bank.py\n",
    "# filename:class_bank.py (in chap3)\n",
    "# function: using the class and _init_ and some method to process the bank operation\n",
    "# _init_: the purpose of the self is that it refers to the specific object created from class like Account class\n",
    "\n",
    "class Account:\n",
    "  def __init__(self, acct_number, name):\n",
    "    print(\"\\t_init_ contstructor is processing\")\n",
    "    self.acct_number = acct_number\n",
    "    self.name = name\n",
    "    self.balance = 100\n",
    "\n",
    "  def deposit(self, amount):\n",
    "    print(\"Deposit amount is \", amount)\n",
    "    if amount <= 0:\n",
    "      raise ValueError('should be positive amount')\n",
    "    self.balance += amount\n",
    "\n",
    "  def withdraw(self, amount):\n",
    "    print(\"Withdraw amount is \", amount)\n",
    "    if amount <= self.balance:\n",
    "      self.balance -= amount\n",
    "    else:\n",
    "      raise RuntimeError('Your account balance is not enough!!!')\n",
    "\n",
    "# when you use your ATM card to withdraw momey,you must pass the password first\n",
    "# the while loop is used to check the password\n",
    "\n",
    "\n",
    "while True:\n",
    "  print(\"\\nPlease key in your Card password!!!\")\n",
    "  passwrd = input()\n",
    "  if passwrd == \"222222\":\n",
    "    acct1 = Account(\"0081038000111\", 'Johnny Hsu')\n",
    "    break\n",
    "  else:\n",
    "    continue\n",
    "print(\"your current balance of card is:\", acct1.balance)\n",
    "\n",
    "print(\"\\n start to prcocess the class object acct1\")\n",
    "deposit1 = acct1.deposit\n",
    "withdraw1 = acct1.withdraw\n",
    "acct1.deposit(2000)\n",
    "deposit1(10000)\n",
    "withdraw1(5000)\n",
    "print(\"the bank balaance is \", acct1.balance)\n",
    "\n",
    "print(\"\\n start to prcocess the class object acct2\")\n",
    "acct2 = Account('00810380000222', 'Sean Pan ')\n",
    "deposit2 = acct2.deposit\n",
    "withdraw2 = acct2.withdraw\n",
    "deposit2(3000)\n",
    "withdraw2(2000)\n",
    "print(\"the bank balance is \", acct2.balance)"
   ]
  },
  {
   "cell_type": "markdown",
   "metadata": {},
   "source": [
    "## 3.2 資料及屬性"
   ]
  },
  {
   "cell_type": "code",
   "execution_count": 23,
   "metadata": {},
   "outputs": [
    {
     "name": "stdout",
     "output_type": "stream",
     "text": [
      "Number of instances: :  0\n",
      "Number of instances: : 1\n",
      "Number of instances: : 0\n",
      "0\n"
     ]
    }
   ],
   "source": [
    "# %load class_attribute.py\n",
    "\n",
    "class Class_attr:\n",
    "  # class data is counter and class_fund\n",
    "  counter = 0\n",
    "  class_fund = 0\n",
    "\n",
    "  def __init__(self):\n",
    "    type(self).counter += 1\n",
    "\n",
    "  def __del__(self):\n",
    "    type(self).counter -= 1\n",
    "\n",
    "\n",
    "if __name__ == \"__main__\":\n",
    "\n",
    "  Tang = Class_attr()\n",
    "  Class_attr.class_fund = Class_attr.counter*1000\n",
    "  print(\"Number of instances: : \", Class_attr.counter)\n",
    "\n",
    "  Big_David = Class_attr()\n",
    "  Class_attr.class_fund = Class_attr.counter*1000\n",
    "  print(\"Number of instances: : \" + str(Class_attr.counter))\n",
    "\n",
    "  del Big_David\n",
    "  print(\"Number of instances: : \" + str(Class_attr.counter))\n",
    "  Class_attr.class_fund = Class_attr.counter*1000\n",
    "  \n",
    "  print(Class_attr.class_fund)"
   ]
  },
  {
   "cell_type": "code",
   "execution_count": 24,
   "metadata": {},
   "outputs": [
    {
     "name": "stdout",
     "output_type": "stream",
     "text": [
      "---------------------------------------------\n",
      "No :  126 , Salary:  52000 , Level:  Engineer\n",
      "---------------------------------------------\n",
      "No :  34 , Salary:  68000 , Level:  Manager\n",
      "Total Employee no is  2\n",
      "Employee.__doc__: \n",
      "   Class Doc show the class attribute\n",
      "   \n",
      "Employee.__module__: __main__\n",
      "Employee.__name__: Employee\n",
      "Employee.__bases__: (<class 'object'>,)\n",
      "Employee.__dict__: {'__module__': '__main__', '__doc__': '\\n   Class Doc show the class attribute\\n   ', 'Count': 2, '__init__': <function Employee.__init__ at 0x0000015BE4D62048>, 'displayEmployee': <function Employee.displayEmployee at 0x0000015BE4D62318>, '__dict__': <attribute '__dict__' of 'Employee' objects>, '__weakref__': <attribute '__weakref__' of 'Employee' objects>}\n"
     ]
    }
   ],
   "source": [
    "# %load employee.py\n",
    "#filenme:Employee.py\n",
    "#function : class variable and class attribute \n",
    "\n",
    "class Employee:\n",
    "   \"\"\"\n",
    "   Class Doc show the class attribute\n",
    "   \"\"\"\n",
    "#Count is class variable\n",
    "   Count = 0\n",
    "\n",
    "   def __init__(self, name, no, salary,level):\n",
    "     \n",
    "      self.name = name\n",
    "      self.no = no\n",
    "      self.salary = salary\n",
    "      self.level = level\n",
    "      Employee.Count += 1\n",
    "   \n",
    "   def displayEmployee(self):\n",
    "      print(\"-\"*45)\n",
    "      print (\"No : \", self.no,  \", Salary: \", self.salary,\", Level: \", self.level)\n",
    "\n",
    "#if __name__ == \"__main__\":\n",
    "   \n",
    "John= Employee(\"John\", \"126\",52000,\"Engineer\")\n",
    "Ted = Employee(\"Teddy\",\"34\", 65000,\"Manager\")\n",
    "if hasattr(John, 'name') :\n",
    "    John.displayEmployee()\n",
    "\n",
    "\n",
    "setattr(Ted, 'salary', 68000)\n",
    "Ted.displayEmployee()\n",
    "print(\"Total Employee no is \",Employee.Count)\n",
    "\n",
    "\n",
    "print (\"Employee.__doc__:\", Employee.__doc__)\n",
    "print (\"Employee.__module__:\", Employee.__module__)\n",
    "print (\"Employee.__name__:\", Employee.__name__)\n",
    "print (\"Employee.__bases__:\", Employee.__bases__)\n",
    "print (\"Employee.__dict__:\", Employee.__dict__)\n"
   ]
  },
  {
   "cell_type": "markdown",
   "metadata": {},
   "source": [
    "## 3.3 類別方法"
   ]
  },
  {
   "cell_type": "code",
   "execution_count": 31,
   "metadata": {},
   "outputs": [
    {
     "name": "stdout",
     "output_type": "stream",
     "text": [
      "_init_ is doing\n",
      "['Johnny', 'score']\n",
      "['Johnny']\n",
      "the items count of stack is 1\n"
     ]
    }
   ],
   "source": [
    "# %load stacking.py\n",
    "# filename:stacking.py\n",
    "# funcion: define _init_ using the empty list first\n",
    "# push the items in the stack ... and so on\n",
    "\n",
    "class Stack:\n",
    "  def __init__(self):\n",
    "    print(\"_init_ is doing\")\n",
    "    self.items = []\n",
    "\n",
    "  # method push purpose is to push items\n",
    "  def push(self, item):\n",
    "    self.items.append(item)\n",
    "\n",
    "  # method pop\n",
    "  def pop(self):\n",
    "    if len(self.items) == 0:\n",
    "      raise ValueError('should have data in stack first')\n",
    "    else:\n",
    "      return self.items.pop()\n",
    "\n",
    "  # isempty method is to check if stack is empty\n",
    "  def isempty(self):\n",
    "    return (self.items == [])\n",
    "\n",
    "  # method to check how many items in the stack\n",
    "  def countofstack(self):\n",
    "    return len(self.items)\n",
    "\n",
    "  def __str__(self):\n",
    "    return str(self.items)\n",
    "\n",
    "\n",
    "if __name__ == \"__main__\":\n",
    "\n",
    "  stackobj = Stack()\n",
    " # print( stackobj)\n",
    " # stackobj.pop()\n",
    "\n",
    "  stackobj.push(\"Johnny\")\n",
    "  stackobj.push(\"score\")\n",
    "  print(stackobj)\n",
    "\n",
    "  stackobj.pop()\n",
    "  print(stackobj)\n",
    "\n",
    "  print(\"the items count of stack is\", stackobj.countofstack())"
   ]
  },
  {
   "cell_type": "code",
   "execution_count": 32,
   "metadata": {},
   "outputs": [
    {
     "name": "stdout",
     "output_type": "stream",
     "text": [
      "Init List\n",
      "Node data= John\n",
      "init node\n",
      "Node data= Johnny\n",
      "init node\n",
      "Node data= CT\n",
      "init node\n",
      "The linked list is \n",
      "John\n",
      "Johnny\n",
      "CT\n"
     ]
    }
   ],
   "source": [
    "# %load llist_text.py\n",
    "\n",
    "# filename:llist_text.py\n",
    "# function: build linked list\n",
    "\n",
    "class Node:\n",
    "  def __init__(self, data):\n",
    "    print(\"init node\")\n",
    "    self.data = data\n",
    "    self.next = None\n",
    "\n",
    "\n",
    "class LinkedList:\n",
    "  def __init__(self):\n",
    "    print(\"Init List\")\n",
    "    self.head = None\n",
    "    self.tail = None\n",
    "\n",
    "  def Add(self, data):\n",
    "    print(\"Node data=\", data)\n",
    "    newnode = Node(data)\n",
    "\n",
    "    if self.head == None:\n",
    "      self.head = newnode\n",
    "    if self.tail != None:\n",
    "      self.tail.next = newnode\n",
    "\n",
    "    self.tail = newnode\n",
    "\n",
    "  def PrintList(self):\n",
    "    node = self.head\n",
    "    while node != None:\n",
    "      print(node.data)\n",
    "      node = node.next\n",
    "\n",
    "\n",
    "LList = LinkedList()\n",
    "LList.Add(\"John\")\n",
    "LList.Add(\"Johnny\")\n",
    "LList.Add(\"CT\")\n",
    "print(\"The linked list is \")\n",
    "LList.PrintList()"
   ]
  },
  {
   "cell_type": "code",
   "execution_count": 33,
   "metadata": {},
   "outputs": [
    {
     "name": "stdout",
     "output_type": "stream",
     "text": [
      "class_way\n",
      "0\n",
      "forking\n",
      "static_way\n",
      "1\n",
      "class_way\n",
      "2\n",
      "forking\n"
     ]
    }
   ],
   "source": [
    "# %load staticmethod.py\n",
    "# filename:staticmethod.py\n",
    "# funcion:specail methods of Python\n",
    "\n",
    "# @staticmethod means: when this method is called,\n",
    "# indeed, no need to pass an instance of the class to it , we(as we normally do with methods).\n",
    "# This means you can put a function inside a class\n",
    "# No need to have a instance .but you can't access the instance of that class (this is useful when your method does not use the instance).\n",
    "# We no need to have a instance, we can use classname.Methodname() to access\n",
    "# @classmethod means: when this method is called\n",
    "# use class as the first argument instead of instance of that class (as we normally do with methods).\n",
    "# This means you can use the class and its properties inside that method rather than a particular instance.\n",
    "\n",
    "# @staticmethod: no need the slef and the class cls parameter , use it like the function way。\n",
    "# @classmethod: noe need the self parameter, but the first parameter need to use cls, which means the cls parameter。\n",
    "\n",
    "\n",
    "class StaticClass(object):\n",
    "  count = 0\n",
    "\n",
    "  def forking(self):\n",
    "    print('forking')\n",
    "\n",
    "  @staticmethod\n",
    "  def static_way():\n",
    "    print('static_way')\n",
    "    print(StaticClass.count)\n",
    "    StaticClass.count += 1\n",
    "# cls().forking()\n",
    "# NameError: name 'cls' is not defined\n",
    "\n",
    "  @classmethod\n",
    "  def class_way(cls):\n",
    "    print('class_way')\n",
    "    print(cls.count)\n",
    "    cls.count += 1\n",
    "    cls().forking()\n",
    "\n",
    "\n",
    "StaticClass.class_way()\n",
    "StaticClass.static_way()\n",
    "StaticClass.class_way()"
   ]
  },
  {
   "cell_type": "markdown",
   "metadata": {},
   "source": [
    "## 3.4 建構(初始)函式"
   ]
  },
  {
   "cell_type": "code",
   "execution_count": 34,
   "metadata": {},
   "outputs": [
    {
     "name": "stdout",
     "output_type": "stream",
     "text": [
      "Class object is inited now\n",
      "1\n",
      "Class object is inited now\n",
      "2\n"
     ]
    }
   ],
   "source": [
    "# %load class_linuxsignal.py\n",
    "# filename:class_linuxsignal\n",
    "# function: test the _init_\n",
    "class Linuxsignal:\n",
    "  process_counter = 0\n",
    "\n",
    "  def __init__(self):\n",
    "    print(\"Class object is inited now\")\n",
    "    type(self).process_counter += 1\n",
    "\n",
    "  def linuxInstances(self):\n",
    "    return Linuxsignal.process_counter\n",
    "\n",
    "\n",
    "if __name__ == \"__main__\":\n",
    "\n",
    "  x = Linuxsignal()\n",
    "  print(x.linuxInstances())\n",
    "  y = Linuxsignal()\n",
    "  print(x.linuxInstances())"
   ]
  },
  {
   "cell_type": "code",
   "execution_count": 35,
   "metadata": {},
   "outputs": [
    {
     "name": "stdout",
     "output_type": "stream",
     "text": [
      "['He can play ball', 'and can smile to child']\n",
      "['He can dance']\n"
     ]
    }
   ],
   "source": [
    "# %load exam3-2.py\n",
    "#filename:Animalstore.py\n",
    "#function: Class has Name and list\n",
    "\n",
    "class Animal_Store:\n",
    "\n",
    "#class has Name and list attribute\n",
    "    def __init__(self, name):\n",
    "        self.name = name\n",
    "        self.list = []    \n",
    "\n",
    "    def add_description(self, nick):\n",
    "        self.list.append(nick)\n",
    "\n",
    "Wu = Animal_Store('Amira')\n",
    "Tsai = Animal_Store('Panda')\n",
    "\n",
    "Wu.add_description('He can play ball')\n",
    "Wu.add_description('and can smile to child')\n",
    "Tsai.add_description('He can dance')\n",
    "\n",
    "print(Wu.list)\n",
    "print(Tsai.list)\n",
    "\n"
   ]
  },
  {
   "cell_type": "code",
   "execution_count": 36,
   "metadata": {},
   "outputs": [
    {
     "name": "stdout",
     "output_type": "stream",
     "text": [
      "__main__\n",
      "Object ID  1494193072008    1494193072072\n"
     ]
    },
    {
     "ename": "NameError",
     "evalue": "name 'Ted' is not defined",
     "output_type": "error",
     "traceback": [
      "\u001b[1;31m---------------------------------------------------------------------------\u001b[0m",
      "\u001b[1;31mNameError\u001b[0m                                 Traceback (most recent call last)",
      "\u001b[1;32m<ipython-input-36-3d5d7b449341>\u001b[0m in \u001b[0;36m<module>\u001b[1;34m\u001b[0m\n\u001b[0;32m     30\u001b[0m \u001b[0mprint\u001b[0m\u001b[1;33m(\u001b[0m\u001b[1;34m\"Object ID \"\u001b[0m\u001b[1;33m,\u001b[0m\u001b[0mid\u001b[0m\u001b[1;33m(\u001b[0m\u001b[0mJohn\u001b[0m\u001b[1;33m)\u001b[0m\u001b[1;33m,\u001b[0m\u001b[1;34m\"  \"\u001b[0m\u001b[1;33m,\u001b[0m\u001b[0mid\u001b[0m\u001b[1;33m(\u001b[0m\u001b[0mTed\u001b[0m\u001b[1;33m)\u001b[0m\u001b[1;33m)\u001b[0m\u001b[1;33m\u001b[0m\u001b[1;33m\u001b[0m\u001b[0m\n\u001b[0;32m     31\u001b[0m \u001b[1;32mdel\u001b[0m \u001b[0mTed\u001b[0m\u001b[1;33m\u001b[0m\u001b[1;33m\u001b[0m\u001b[0m\n\u001b[1;32m---> 32\u001b[1;33m \u001b[0mprint\u001b[0m\u001b[1;33m(\u001b[0m\u001b[1;34m\"Object ID \"\u001b[0m\u001b[1;33m,\u001b[0m\u001b[0mid\u001b[0m\u001b[1;33m(\u001b[0m\u001b[0mJohn\u001b[0m\u001b[1;33m)\u001b[0m\u001b[1;33m,\u001b[0m\u001b[1;34m\"  \"\u001b[0m\u001b[1;33m,\u001b[0m\u001b[0mid\u001b[0m\u001b[1;33m(\u001b[0m\u001b[0mTed\u001b[0m\u001b[1;33m)\u001b[0m\u001b[1;33m)\u001b[0m\u001b[1;33m\u001b[0m\u001b[1;33m\u001b[0m\u001b[0m\n\u001b[0m",
      "\u001b[1;31mNameError\u001b[0m: name 'Ted' is not defined"
     ]
    }
   ],
   "source": [
    "# %load exam3-3.py\n",
    "#filenme:exam3-3-Employee.py\n",
    "#function : class variable and class attribute \n",
    "\n",
    "class Employee:\n",
    "   \"\"\"\n",
    "   Class Doc show the class attribute\n",
    "   \"\"\"\n",
    "#Count is class variable\n",
    "   Count = 0\n",
    "\n",
    "   def __init__(self, name, no, salary,level):\n",
    "     \n",
    "      self.name = name\n",
    "      self.no = no\n",
    "      self.salary = salary\n",
    "      self.level = level\n",
    "      Employee.Count += 1\n",
    "   \n",
    "   def displayEmployee(self):\n",
    "      print(\"-\"*45)\n",
    "      print (\"No : \", self.no,  \", Salary: \", self.salary,\", Level: \", self.level)\n",
    "\n",
    "print ( Employee.__module__)\n",
    "#if __name__ == \"__main__\":\n",
    "   \n",
    "John= Employee(\"John\", \"126\",52000,\"Engineer\")\n",
    "Ted = Employee(\"Teddy\",\"34\", 65000,\"Manager\")\n",
    "\n",
    "print(\"Object ID \",id(John),\"  \",id(Ted))\n",
    "del Ted\n",
    "print(\"Object ID \",id(John),\"  \",id(Ted))\n"
   ]
  }
 ],
 "metadata": {
  "kernelspec": {
   "display_name": "Python 3",
   "language": "python",
   "name": "python3"
  },
  "language_info": {
   "codemirror_mode": {
    "name": "ipython",
    "version": 3
   },
   "file_extension": ".py",
   "mimetype": "text/x-python",
   "name": "python",
   "nbconvert_exporter": "python",
   "pygments_lexer": "ipython3",
   "version": "3.8.3"
  },
  "toc": {
   "base_numbering": 1,
   "nav_menu": {},
   "number_sections": true,
   "sideBar": true,
   "skip_h1_title": false,
   "title_cell": "Table of Contents",
   "title_sidebar": "Contents",
   "toc_cell": false,
   "toc_position": {},
   "toc_section_display": true,
   "toc_window_display": true
  },
  "varInspector": {
   "cols": {
    "lenName": 16,
    "lenType": 16,
    "lenVar": 40
   },
   "kernels_config": {
    "python": {
     "delete_cmd_postfix": "",
     "delete_cmd_prefix": "del ",
     "library": "var_list.py",
     "varRefreshCmd": "print(var_dic_list())"
    },
    "r": {
     "delete_cmd_postfix": ") ",
     "delete_cmd_prefix": "rm(",
     "library": "var_list.r",
     "varRefreshCmd": "cat(var_dic_list()) "
    }
   },
   "types_to_exclude": [
    "module",
    "function",
    "builtin_function_or_method",
    "instance",
    "_Feature"
   ],
   "window_display": false
  }
 },
 "nbformat": 4,
 "nbformat_minor": 4
}
