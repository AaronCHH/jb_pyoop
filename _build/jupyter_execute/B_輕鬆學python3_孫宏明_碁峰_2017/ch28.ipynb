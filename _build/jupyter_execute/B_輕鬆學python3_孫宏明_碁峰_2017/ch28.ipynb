{
 "cells": [
  {
   "cell_type": "markdown",
   "id": "backed-cosmetic",
   "metadata": {},
   "source": [
    "# ch28 繼承"
   ]
  },
  {
   "cell_type": "markdown",
   "id": "lightweight-commodity",
   "metadata": {},
   "source": [
    "## 28-1 繼承"
   ]
  },
  {
   "cell_type": "code",
   "execution_count": null,
   "id": "productive-bennett",
   "metadata": {},
   "outputs": [],
   "source": [
    "# %load \"28-1/Inheritance/classes/parent.py\"\n",
    "class Parent:\n",
    "  def __init__(self):\n",
    "    self.public_var = 'Parent類別的公開變數'\n",
    "    self._protected_var = 'Parent類別的保護變數'\n",
    "    self.__private_var = 'Parent類別的私有變數'\n",
    "\n",
    "  def public_method(self):\n",
    "    return 'Parent類別的公開方法'\n",
    "\n",
    "  def _protected_method(self):\n",
    "    return 'Parent類別的保護方法'\n",
    "\n",
    "  def __private_method(self):\n",
    "    return 'Parent類別的私有方法'"
   ]
  },
  {
   "cell_type": "code",
   "execution_count": null,
   "id": "global-royal",
   "metadata": {},
   "outputs": [],
   "source": [
    "# %load \"28-1/Inheritance/classes/child.py\"\n",
    "from classes.parent import *\n",
    "\n",
    "\n",
    "class Child(Parent):\n",
    "  def __init__(self):\n",
    "    super().__init__()\n",
    "\n",
    "  # 這個方法會用到從父類別得到的公開變數public_var\n",
    "  def get_super_public_var(self):\n",
    "    return self.public_var\n",
    "\n",
    "  # 這個方法會用到從父類別得到的保護變數protected_var\n",
    "  def get_super_protected_var(self):\n",
    "    return self._protected_var\n",
    "\n",
    "  # 這個方法會用到從父類別得到的私有變數private_var\n",
    "  def get_super_private_var(self):\n",
    "    return self.__private_var\n",
    "\n",
    "  # 這個方法會用到從父類別得到的公開方法public_method()\n",
    "  def call_super_public_method(self):\n",
    "    return self.public_method()\n",
    "\n",
    "  # 這個方法會用到從父類別得到的保護方法protected_method()\n",
    "  def call_super_protected_method(self):\n",
    "    return self._protected_method()\n",
    "\n",
    "  # 這個方法會用到從父類別得到的私有方法private_method()\n",
    "  def call_super_private_method(self):\n",
    "    return self.__private_method()"
   ]
  },
  {
   "cell_type": "code",
   "execution_count": null,
   "id": "thirty-water",
   "metadata": {},
   "outputs": [],
   "source": [
    "# %load \"28-1/Inheritance/main.py\"\n",
    "from classes import *\n",
    "\n",
    "s = Child()  # 建立Child類別的物件\n",
    "\n",
    "# 呼叫六個公開的方法，觀察執行結果\n",
    "# 其中有二個方法會發生例外錯誤\n",
    "print(s.get_super_public_var())\n",
    "print(s.get_super_protected_var())\n",
    "# print(s.get_super_private_var())\n",
    "print(s.call_super_public_method())\n",
    "print(s.call_super_protected_method())\n",
    "# print(s.call_super_private_method())"
   ]
  },
  {
   "cell_type": "markdown",
   "id": "younger-copyright",
   "metadata": {},
   "source": [
    "## 28-2 覆寫"
   ]
  },
  {
   "cell_type": "code",
   "execution_count": null,
   "id": "governing-japan",
   "metadata": {},
   "outputs": [],
   "source": [
    "# %load \"28-2/Inheritance/classes/parent.py\"\n",
    "class Parent:\n",
    "  def __init__(self):\n",
    "    self.public_var = 'Parent類別的公開變數'\n",
    "    self._protected_var = 'Parent類別的保護變數'\n",
    "    self.__private_var = 'Parent類別的私有變數'\n",
    "\n",
    "  def public_method(self):\n",
    "    return 'Parent類別的公開方法'\n",
    "\n",
    "  def _protected_method(self):\n",
    "    return 'Parent類別的保護方法'\n",
    "\n",
    "  def __private_method(self):\n",
    "    return 'Parent類別的私有方法'"
   ]
  },
  {
   "cell_type": "code",
   "execution_count": null,
   "id": "pending-priority",
   "metadata": {},
   "outputs": [],
   "source": [
    "# %load \"28-2/Inheritance/classes/child.py\"\n",
    "from classes.parent import *\n",
    "\n",
    "\n",
    "class Child(Parent):\n",
    "  def __init__(self):\n",
    "    super().__init__()\n",
    "\n",
    "    # 覆寫父類別的變數\n",
    "    self.public_var = 'Child類別的公開變數'\n",
    "    self._protected_var = 'Child類別的保護變數'\n",
    "\n",
    "  def get_super_public_var(self):\n",
    "    return self.public_var\n",
    "\n",
    "  def get_super_protected_var(self):\n",
    "    return self._protected_var\n",
    "\n",
    "  def get_super_private_var(self):\n",
    "    return self.__private_var\n",
    "\n",
    "  def call_super_public_method(self):\n",
    "    return self.public_method()\n",
    "\n",
    "  def call_super_protected_method(self):\n",
    "    return self._protected_method()\n",
    "\n",
    "  def call_super_private_method(self):\n",
    "    return self.__private_method()\n",
    "\n",
    "  # 覆寫父類別的公開方法\n",
    "  def public_method(self):\n",
    "    return 'Child類別的公開方法'\n",
    "\n",
    "  # 覆寫父類別的保護方法\n",
    "  def _protected_method(self):\n",
    "    return 'Child類別的保護方法'"
   ]
  },
  {
   "cell_type": "code",
   "execution_count": null,
   "id": "lovely-karma",
   "metadata": {},
   "outputs": [],
   "source": [
    "# %load \"28-2/Inheritance/main.py\"\n",
    "from classes import *\n",
    "\n",
    "s = Child()  # 建立Child類別的物件\n",
    "\n",
    "# 呼叫六個公開的方法，觀察執行結果\n",
    "# 其中有二個方法會發生例外錯誤\n",
    "print(s.get_super_public_var())\n",
    "print(s.get_super_protected_var())\n",
    "# print(s.get_super_private_var())\n",
    "print(s.call_super_public_method())\n",
    "print(s.call_super_protected_method())\n",
    "# print(s.call_super_private_method())"
   ]
  },
  {
   "cell_type": "markdown",
   "id": "smart-provincial",
   "metadata": {},
   "source": [
    "## 28-3 多重繼承"
   ]
  },
  {
   "cell_type": "code",
   "execution_count": null,
   "id": "mobile-academy",
   "metadata": {},
   "outputs": [],
   "source": [
    "# %load \"28-3/Traffic/traffictools/car.py\"\n",
    "class Car:\n",
    "  def __init__(self):\n",
    "    self._name = 'Car'\n",
    "\n",
    "  def show_name(self):\n",
    "    print(self._name)\n",
    "\n",
    "  def run(self):\n",
    "    print('Running...')\n",
    "\n",
    "  def stop(self):\n",
    "    print('Stop')"
   ]
  },
  {
   "cell_type": "code",
   "execution_count": null,
   "id": "decreased-camel",
   "metadata": {},
   "outputs": [],
   "source": [
    "# %load \"28-3/Traffic/traffictools/airplane.py\n",
    "class Airplane:\n",
    "  def __init__(self):\n",
    "    self._name = 'Airplane'\n",
    "\n",
    "  def show_name(self):\n",
    "    print(self._name)\n",
    "\n",
    "  def take_off(self):\n",
    "    print('Flying...')\n",
    "\n",
    "  def land(self):\n",
    "    print('Land')"
   ]
  },
  {
   "cell_type": "code",
   "execution_count": null,
   "id": "persistent-accounting",
   "metadata": {},
   "outputs": [],
   "source": [
    "# %load \"28-3/Traffic/traffictools/flyingcar.py\"\n",
    "from traffictools.car import *\n",
    "from traffictools.airplane import *\n",
    "\n",
    "\n",
    "class FlyingCar(Airplane, Car):\n",
    "  def __init__(self):\n",
    "    super().__init__()"
   ]
  },
  {
   "cell_type": "code",
   "execution_count": null,
   "id": "alternate-sarah",
   "metadata": {},
   "outputs": [],
   "source": [
    "# %load \"28-3/Traffic/main.py\n",
    "from traffictools import *\n",
    "\n",
    "# 建立一個FlyingCar物件\n",
    "flyingcar = FlyingCar()\n",
    "\n",
    "# 呼叫FlyingCar物件的方法\n",
    "# 這些方法都是從父類別繼承得到的\n",
    "flyingcar.show_name()\n",
    "flyingcar.run()\n",
    "flyingcar.stop()\n",
    "flyingcar.take_off()\n",
    "flyingcar.land()"
   ]
  },
  {
   "cell_type": "code",
   "execution_count": null,
   "id": "breathing-order",
   "metadata": {},
   "outputs": [],
   "source": []
  }
 ],
 "metadata": {
  "kernelspec": {
   "display_name": "Python 3",
   "language": "python",
   "name": "python3"
  },
  "language_info": {
   "codemirror_mode": {
    "name": "ipython",
    "version": 3
   },
   "file_extension": ".py",
   "mimetype": "text/x-python",
   "name": "python",
   "nbconvert_exporter": "python",
   "pygments_lexer": "ipython3",
   "version": "3.8.6"
  },
  "toc": {
   "base_numbering": 1,
   "nav_menu": {},
   "number_sections": true,
   "sideBar": true,
   "skip_h1_title": false,
   "title_cell": "Table of Contents",
   "title_sidebar": "Contents",
   "toc_cell": false,
   "toc_position": {},
   "toc_section_display": true,
   "toc_window_display": true
  },
  "varInspector": {
   "cols": {
    "lenName": 16,
    "lenType": 16,
    "lenVar": 40
   },
   "kernels_config": {
    "python": {
     "delete_cmd_postfix": "",
     "delete_cmd_prefix": "del ",
     "library": "var_list.py",
     "varRefreshCmd": "print(var_dic_list())"
    },
    "r": {
     "delete_cmd_postfix": ") ",
     "delete_cmd_prefix": "rm(",
     "library": "var_list.r",
     "varRefreshCmd": "cat(var_dic_list()) "
    }
   },
   "types_to_exclude": [
    "module",
    "function",
    "builtin_function_or_method",
    "instance",
    "_Feature"
   ],
   "window_display": false
  }
 },
 "nbformat": 4,
 "nbformat_minor": 5
}