{
 "cells": [
  {
   "cell_type": "markdown",
   "metadata": {},
   "source": [
    "# Ch07 物件導向程式開發"
   ]
  },
  {
   "cell_type": "markdown",
   "metadata": {},
   "source": [
    "## 7.1 類別與物件"
   ]
  },
  {
   "cell_type": "code",
   "execution_count": null,
   "metadata": {},
   "outputs": [],
   "source": [
    "# %load class01.py\n",
    "class Animal():  # 定義類別\n",
    "  name = \"小鳥\"  # 定義屬性\n",
    "\n",
    "  def sing(self):  # 定義方法\n",
    "    print(\"很會唱歌!\")\n",
    "\n",
    "\n",
    "bird = Animal()  # 以 Animal 類別，建立一個名叫小鳥的 bird物件\n",
    "print(bird.name)  # 小鳥\n",
    "bird.sing()  # 很會唱歌!"
   ]
  },
  {
   "cell_type": "code",
   "execution_count": null,
   "metadata": {},
   "outputs": [],
   "source": [
    "# %load class02.py\n",
    "class Animal():  # 定義類別\n",
    "  def __init__(self, name):\n",
    "    self.name = name  # 定義屬性\n",
    "\n",
    "  def sing(self):  # 定義方法\n",
    "    print(self.name + \"，很會唱歌!\")\n",
    "\n",
    "\n",
    "bird = Animal(\"鸚鵡\")  # 以 Animal 類別，建立一個名叫鸚鵡的 bird物件\n",
    "print(bird.name)  # 鸚鵡\n",
    "bird.sing()  # 鸚鵡，很會唱歌!"
   ]
  },
  {
   "cell_type": "code",
   "execution_count": null,
   "metadata": {},
   "outputs": [],
   "source": [
    "# %load class03.py\n",
    "class Animal():  # 定義類別\n",
    "  def __init__(self, name, age):\n",
    "    self.name = name  # 定義屬性\n",
    "    self.age = age\n",
    "\n",
    "  def sing(self):  # 定義方法\n",
    "    print(self.name + str(self.age) + \"歲，很會唱歌!\")\n",
    "\n",
    "  def grow(self, year):  # 定義方法\n",
    "    self.age += year\n",
    "\n",
    "\n",
    "bird = Animal(\"鸚鵡\", 1)  # 以 Animal 類別，建立一個名叫鸚鵡、1歲大的 bird物件\n",
    "bird.grow(1)  # 長大1歲\n",
    "bird.sing()  # 鸚鵡2歲，很會唱歌!"
   ]
  },
  {
   "cell_type": "markdown",
   "metadata": {},
   "source": [
    "## 7.2 類別封裝"
   ]
  },
  {
   "cell_type": "code",
   "execution_count": null,
   "metadata": {},
   "outputs": [],
   "source": [
    "# %load class04.py\n",
    "class Animal():  # 定義類別\n",
    "  def __init__(self, name, age):\n",
    "    self.__name = name  # 定義私用屬性\n",
    "    self.__age = age\n",
    "\n",
    "  def __sing(self):  # 定義私用方法\n",
    "    print(self.__name + str(self.__age), end=\"歲，很會唱歌，\")\n",
    "\n",
    "  def talk(self):  # 定義共用方法\n",
    "    self.__sing()  # 使用私用方法\n",
    "    print(\"也會模仿人類說話!\")\n",
    "\n",
    "\n",
    "bird = Animal(\"灰鸚鵡\", 2)  # 以 Animal 類別，建立一個名叫灰鸚鵡、2歲大的 bird物件\n",
    "bird.talk()  # 灰鸚鵡2歲，很會唱歌，也會模仿人類說話!\n",
    "\n",
    "bird.__age = -1  # 設定無效\n",
    "bird.talk()  # 灰鸚鵡2歲，很會唱歌，也會模仿人類說話!\n",
    "# bird.__sing()   #執行出現錯誤"
   ]
  },
  {
   "cell_type": "markdown",
   "metadata": {},
   "source": [
    "## 7.3 類別繼承"
   ]
  },
  {
   "cell_type": "code",
   "execution_count": null,
   "metadata": {},
   "outputs": [],
   "source": [
    "# %load class05.py\n",
    "class Animal():  # 定義父類別\n",
    "  def __init__(self, name):\n",
    "    self.name = name  # 定義共用屬性\n",
    "\n",
    "  def fly(self):  # 定義共用方法\n",
    "    print(self.name + \"很會飛!\")\n",
    "\n",
    "\n",
    "class Bird(Animal):  # 定義子類別\n",
    "  def __init__(self, name):\n",
    "    self.name = \"粉紅色\" + name  # 覆寫父類別的建構式\n",
    "\n",
    "  def sing(self):  # 定義子類別的方法\n",
    "    print(self.name + \"也愛唱歌!\")\n",
    "\n",
    "\n",
    "pigeon = Animal(\"小白鴿\")  # 以 Animal 類別，建立一個名叫小白鴿的 pigeon 物件\n",
    "pigeon.fly()  # 小白鴿很會飛!\n",
    "\n",
    "parrot = Bird(\"小鸚鵡\")  # 以 Bird 類別，建立一個名叫小鸚鵡的 parrot 物件\n",
    "parrot.fly()  # 粉紅色小鸚鵡很會飛!\n",
    "parrot.sing()  # 粉紅色小鸚鵡也愛唱歌!"
   ]
  },
  {
   "cell_type": "code",
   "execution_count": null,
   "metadata": {},
   "outputs": [],
   "source": [
    "# %load class06.py\n",
    "class Animal():  # 定義父類別\n",
    "  def __init__(self, name):\n",
    "    self.name = name  # 定義共用屬性\n",
    "\n",
    "  def fly(self):  # 定義共用方法\n",
    "    print(self.name + \"很會飛!\")\n",
    "\n",
    "\n",
    "class Bird(Animal):  # 定義子類別\n",
    "  def __init__(self, name, age):\n",
    "    super().__init__(name)  # 執行父類別的 __init__()方法\n",
    "    self.age = age  # 定義子類別共用屬性\n",
    "\n",
    "  def fly(self):  # 定義子類別共用方法\n",
    "    print(str(self.age), end=\"歲\")\n",
    "    super().fly()  # 執行父類別的 fly方法\n",
    "\n",
    "\n",
    "pigeon = Animal(\"小白鴿\")  # 以 Animal 類別，建立一個名叫小白鴿的 pigeon 物件\n",
    "pigeon.fly()  # 小白鴿很會飛!\n",
    "\n",
    "parrot = Bird(\"小鸚鵡\", 2)  # 以 Bird 類別，建立一個名叫小鸚鵡、2歲大的 parrot 物件\n",
    "parrot.fly()  # 2歲小鸚鵡很會飛!"
   ]
  },
  {
   "cell_type": "markdown",
   "metadata": {},
   "source": [
    "## 7.4 多型"
   ]
  },
  {
   "cell_type": "code",
   "execution_count": null,
   "metadata": {},
   "outputs": [],
   "source": [
    "# %load class07.py\n",
    "class Animal():  # 定義父類別\n",
    "  def fly(self):  # 定義共用方法\n",
    "    print(\"時速 20公里!\")\n",
    "\n",
    "\n",
    "class Bird(Animal):  # 定義子類別\n",
    "  def fly(self, speed):  # 定義共用方法\n",
    "    print(\"時速 \" + str(speed) + \"公里!\")\n",
    "\n",
    "\n",
    "class Plane():  # 定義類別\n",
    "  def fly(self):  # 定義共用方法\n",
    "    print(\"時速 1000公里!\")\n",
    "\n",
    "\n",
    "def fly(speed):  # 定義函式\n",
    "  print(\"時速 \" + str(speed) + \"英哩!\")\n",
    "\n",
    "\n",
    "animal = Animal()  # 以 Animal 類別建立 animal 物件\n",
    "animal.fly()  # 時速 20公里!\n",
    "\n",
    "bird = Bird()  # 以 Bird 類別建立 bird 物件\n",
    "bird.fly(60)  # 時速 60公里!\n",
    "\n",
    "plane = Plane()  # 以 Plane 類別建立 plane 物件\n",
    "plane.fly()  # 時速 1000公里!\n",
    "\n",
    "fly(5)  # 時速 5英哩!"
   ]
  },
  {
   "cell_type": "markdown",
   "metadata": {},
   "source": [
    "## 7.5 多重繼承"
   ]
  },
  {
   "cell_type": "code",
   "execution_count": null,
   "metadata": {},
   "outputs": [],
   "source": [
    "# %load class08.py\n",
    "class Father():  # 定義父類別\n",
    "  def say(self):  # 定義共用方法\n",
    "    print(\"明天會更好!\")\n",
    "\n",
    "\n",
    "class Mother():  # 定義父類別\n",
    "  def say(self):  # 定義共用方法\n",
    "    print(\"包容、尊重!\")\n",
    "\n",
    "\n",
    "class Child(Father, Mother):  # 定義子類別\n",
    "  pass\n",
    "\n",
    "\n",
    "child = Child()  # 建立 child 物件\n",
    "child.say()  # 明天會更好!"
   ]
  },
  {
   "cell_type": "markdown",
   "metadata": {},
   "source": [
    "## 7.6 類別應用"
   ]
  },
  {
   "cell_type": "code",
   "execution_count": 11,
   "metadata": {},
   "outputs": [
    {
     "name": "stdout",
     "output_type": "stream",
     "text": [
      "矩形面積= 30\n",
      "三角形面積= 15.0\n"
     ]
    }
   ],
   "source": [
    "# %load Area.py\n",
    "class Rectangle():  # 定義父類別\n",
    "  def __init__(self, width, height):\n",
    "    self.width = width  # 定義共用屬性\n",
    "    self.height = height  # 定義共用屬性\n",
    "\n",
    "  def area(self):  # 定義共用方法\n",
    "    return self.width * self.height\n",
    "\n",
    "\n",
    "class Triangle(Rectangle):  # 定義子類別\n",
    "  def area2(self):  # 定義子類別的共用方法\n",
    "    return (self.width * self.height)/2\n",
    "\n",
    "\n",
    "triangle = Triangle(5, 6)  # 建立 triangle 物件\n",
    "print(\"矩形面積=\", triangle.area())  # 30\n",
    "print(\"三角形面積=\", triangle.area2())  # 15"
   ]
  },
  {
   "cell_type": "markdown",
   "metadata": {},
   "source": [
    "## 7.7 建立 Python 專案"
   ]
  },
  {
   "cell_type": "code",
   "execution_count": null,
   "metadata": {},
   "outputs": [],
   "source": [
    "# %load projectHello/index.py\n",
    "from mypackage.Hello import sayHello\n",
    "\n",
    "sayHello()"
   ]
  },
  {
   "cell_type": "code",
   "execution_count": null,
   "metadata": {},
   "outputs": [],
   "source": [
    "# %load projectHello/mypackage/Hello.py\n",
    "def sayHello():\n",
    "  print(\"Hello\")"
   ]
  },
  {
   "cell_type": "markdown",
   "metadata": {},
   "source": [
    "## 7.8 打造自己的模組"
   ]
  },
  {
   "cell_type": "code",
   "execution_count": null,
   "metadata": {},
   "outputs": [],
   "source": [
    "# %load module-1.py\n",
    "def add(n1,n2):\n",
    "    return n1+n2\n",
    "    \n",
    "def sub(n1,n2):\n",
    "    return n1-n2\n",
    "\n",
    "print(add(5,2))  # 7\n",
    "print(sub(5,2))  # 3"
   ]
  },
  {
   "cell_type": "code",
   "execution_count": null,
   "metadata": {},
   "outputs": [],
   "source": [
    "# %load calculate.py\n",
    "def add(n1,n2):\n",
    "    return n1+n2\n",
    "    \n",
    "def sub(n1,n2):\n",
    "    return n1-n2"
   ]
  },
  {
   "cell_type": "code",
   "execution_count": null,
   "metadata": {},
   "outputs": [],
   "source": [
    "# %load getPrivateAttribute.py\n",
    "class Father():      #定義父類別  \n",
    "    def __init__(self,name):\n",
    "        self.name = name    \n",
    "        self.__eye=\"黑色\" #定義私用屬性\n",
    "    def getEye(self):    #定義共用方法傳回私用屬性\n",
    "        return self.__eye\n",
    "        \n",
    "class Child(Father):      #定義子類別  \n",
    "    def __init__(self,name,eye):\n",
    "        super().__init__(name)\n",
    "        self.eye=eye\n",
    "        self.fatherEye=super().getEye() #取得私用屬性\n",
    "      \n",
    "joe = Child(\"小華\",\"棕色\") #建立子類別物件 joe\n",
    "print(joe.name+\"眼睛是\"+joe.eye+\"，他的父親則是\"+joe.fatherEye)\n",
    "# 執行結果：小華眼睛是棕色，他的父親則是黑色      "
   ]
  },
  {
   "cell_type": "code",
   "execution_count": null,
   "metadata": {},
   "outputs": [],
   "source": [
    "# %load module-2.py\n",
    "import calculate  # 匯入 calculate 模組\n",
    "\n",
    "print(calculate.add(5, 2))  # 7\n",
    "print(calculate.sub(5, 2))  # 3"
   ]
  },
  {
   "cell_type": "code",
   "execution_count": null,
   "metadata": {},
   "outputs": [],
   "source": [
    "# %load module-3.py\n",
    "from calculate import add, sub\n",
    "\n",
    "print(add(5, 2))  # 7\n",
    "print(sub(5, 2))  # 3"
   ]
  },
  {
   "cell_type": "code",
   "execution_count": null,
   "metadata": {},
   "outputs": [],
   "source": [
    "# %load module-4.py\n",
    "from calculate import add\n",
    "\n",
    "print(add(5, 2))  # 7\n",
    "print(sub(5, 2))  # NameError: name 'sub' is not defined"
   ]
  },
  {
   "cell_type": "code",
   "execution_count": null,
   "metadata": {},
   "outputs": [],
   "source": [
    "# %load module-5.py\n",
    "from calculate import *\n",
    "\n",
    "print(add(5, 2))  # 7\n",
    "print(sub(5, 2))  # 3"
   ]
  },
  {
   "cell_type": "code",
   "execution_count": null,
   "metadata": {},
   "outputs": [],
   "source": [
    "# %load module-6.py\n",
    "from calculate import add as a\n",
    "\n",
    "print(a(5, 2))  # 7"
   ]
  },
  {
   "cell_type": "code",
   "execution_count": null,
   "metadata": {},
   "outputs": [],
   "source": [
    "# %load module-7.py\n",
    "import calculate as cal  # 匯入 calculate 模組，並取別名為 cal\n",
    "\n",
    "print(cal.add(5, 2))  # 7\n",
    "print(cal.sub(5, 2))  # 3"
   ]
  },
  {
   "cell_type": "markdown",
   "metadata": {},
   "source": [
    "### 7.8.4 多模組"
   ]
  },
  {
   "cell_type": "code",
   "execution_count": null,
   "metadata": {},
   "outputs": [],
   "source": [
    "# %load projectArea/index.py\n",
    "from areapackage.myClass import Triangle\n",
    "\n",
    "triangle = Triangle(5,6) #建立 triangle 物件\n",
    "print(\"矩形面積=\",triangle.area())    #30\n",
    "print(\"三角形面積=\",triangle.area2()) #15"
   ]
  },
  {
   "cell_type": "code",
   "execution_count": null,
   "metadata": {},
   "outputs": [],
   "source": [
    "# %load projectArea/areapackage/myClass.py\n",
    "class Rectangle():  # 定義父類別\n",
    "  def __init__(self, width, height):\n",
    "    self.width = width  # 定義共用屬性\n",
    "    self.height = height  # 定義共用屬性\n",
    "\n",
    "  def area(self):  # 定義共用方法\n",
    "    return self.width * self.height\n",
    "\n",
    "\n",
    "class Triangle(Rectangle):  # 定義子類別\n",
    "  def area2(self):  # 定義子類別的共用方法\n",
    "    return (self.width * self.height)/2"
   ]
  },
  {
   "cell_type": "markdown",
   "metadata": {},
   "source": [
    "### 7.8.5 共用模組"
   ]
  },
  {
   "cell_type": "code",
   "execution_count": null,
   "metadata": {},
   "outputs": [],
   "source": [
    "# %load CallModule.py\n",
    "from areapackage2.Rectangle import Rectangle\n",
    "from areapackage2.Triangle import Triangle\n",
    "\n",
    "triangle = Triangle(5, 6)  # 建立 triangle 物件\n",
    "print(\"矩形面積=\", triangle.area())  # 30\n",
    "print(\"三角形面積=\", triangle.area2())  # 15.0"
   ]
  },
  {
   "cell_type": "code",
   "execution_count": 29,
   "metadata": {
    "scrolled": true
   },
   "outputs": [],
   "source": [
    "# %load password.py"
   ]
  },
  {
   "cell_type": "code",
   "execution_count": null,
   "metadata": {},
   "outputs": [],
   "source": []
  }
 ],
 "metadata": {
  "kernelspec": {
   "display_name": "Python 3",
   "language": "python",
   "name": "python3"
  },
  "language_info": {
   "codemirror_mode": {
    "name": "ipython",
    "version": 3
   },
   "file_extension": ".py",
   "mimetype": "text/x-python",
   "name": "python",
   "nbconvert_exporter": "python",
   "pygments_lexer": "ipython3",
   "version": "3.8.3"
  },
  "toc": {
   "base_numbering": 1,
   "nav_menu": {},
   "number_sections": true,
   "sideBar": true,
   "skip_h1_title": false,
   "title_cell": "Table of Contents",
   "title_sidebar": "Contents",
   "toc_cell": false,
   "toc_position": {
    "height": "calc(100% - 180px)",
    "left": "10px",
    "top": "150px",
    "width": "205.455px"
   },
   "toc_section_display": true,
   "toc_window_display": true
  },
  "varInspector": {
   "cols": {
    "lenName": 16,
    "lenType": 16,
    "lenVar": 40
   },
   "kernels_config": {
    "python": {
     "delete_cmd_postfix": "",
     "delete_cmd_prefix": "del ",
     "library": "var_list.py",
     "varRefreshCmd": "print(var_dic_list())"
    },
    "r": {
     "delete_cmd_postfix": ") ",
     "delete_cmd_prefix": "rm(",
     "library": "var_list.r",
     "varRefreshCmd": "cat(var_dic_list()) "
    }
   },
   "types_to_exclude": [
    "module",
    "function",
    "builtin_function_or_method",
    "instance",
    "_Feature"
   ],
   "window_display": false
  }
 },
 "nbformat": 4,
 "nbformat_minor": 4
}