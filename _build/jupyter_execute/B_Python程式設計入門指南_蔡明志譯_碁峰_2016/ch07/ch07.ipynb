{
 "cells": [
  {
   "cell_type": "markdown",
   "metadata": {},
   "source": [
    "# Ch07 物件與類別\n"
   ]
  },
  {
   "cell_type": "markdown",
   "metadata": {},
   "source": [
    "## 7.2 定義物件類別"
   ]
  },
  {
   "cell_type": "code",
   "execution_count": 1,
   "metadata": {},
   "outputs": [],
   "source": [
    "# %load Circle.py\n",
    "import math \n",
    "\n",
    "class Circle:\n",
    "    # Construct a circle object \n",
    "    def __init__(self, radius = 1):\n",
    "        self.radius = radius\n",
    "\n",
    "    def getPerimeter(self):\n",
    "        return 2 * self.radius * math.pi\n",
    "\n",
    "    def getArea(self):\n",
    "        return self.radius * self.radius * math.pi\n",
    "          \n",
    "    def setRadius(self, radius):\n",
    "        self.radius = radius"
   ]
  },
  {
   "cell_type": "code",
   "execution_count": 2,
   "metadata": {},
   "outputs": [
    {
     "name": "stdout",
     "output_type": "stream",
     "text": [
      "The area of the circle of radius 1 is 3.141592653589793\n",
      "The area of the circle of radius 25 is 1963.4954084936207\n",
      "The area of the circle of radius 125 is 49087.385212340516\n",
      "The area of the circle of radius 100 is 31415.926535897932\n"
     ]
    }
   ],
   "source": [
    "# %load TestCircle.py\n",
    "from Circle import Circle\n",
    "\n",
    "def main():\n",
    "    # Create a circle with radius 1\n",
    "    circle1 = Circle()\n",
    "    print(\"The area of the circle of radius\",\n",
    "        circle1.radius, \"is\", circle1.getArea())\n",
    "\n",
    "    # Create a circle with radius 25\n",
    "    circle2 = Circle(25)\n",
    "    print(\"The area of the circle of radius\",\n",
    "        circle2.radius, \"is\", circle2.getArea())\n",
    "\n",
    "    # Create a circle with radius 125\n",
    "    circle3 = Circle(125)\n",
    "    print(\"The area of the circle of radius\",\n",
    "        circle3.radius, \"is\", circle3.getArea())\n",
    "\n",
    "    # Modify circle radius\n",
    "    circle2.radius = 100\n",
    "    print(\"The area of the circle of radius\", \n",
    "        circle2.radius, \"is\", circle2.getArea())\n",
    "\n",
    "main() # Call the main function\n"
   ]
  },
  {
   "cell_type": "markdown",
   "metadata": {},
   "source": [
    "## 7.3 類別圖"
   ]
  },
  {
   "cell_type": "code",
   "execution_count": 3,
   "metadata": {},
   "outputs": [],
   "source": [
    "# %load TV.py\n",
    "class TV:\n",
    "    def __init__(self):\n",
    "        self.channel = 1  # Default channel is 1\n",
    "        self.volumeLevel = 1  # Default volume level is 1\n",
    "        self.on = False  # By default TV is off\n",
    "  \n",
    "    def turnOn(self):\n",
    "        self.on = True\n",
    "  \n",
    "    def turnOff(self):\n",
    "        self.on = False\n",
    "  \n",
    "    def getChannel(self):\n",
    "        return self.channel\n",
    "\n",
    "    def setChannel(self, channel):\n",
    "        if self.on and 1 <= self.channel <= 120:\n",
    "            self.channel = channel\n",
    "  \n",
    "    def getVolumeLevel(self):\n",
    "        return self.volumeLevel\n",
    "\n",
    "    def setVolume(self, volumeLevel):\n",
    "        if self.on and \\\n",
    "              1 <= self.volumeLevel <= 7:\n",
    "            self.volumeLevel = volumeLevel\n",
    "  \n",
    "    def channelUp(self):\n",
    "        if self.on and self.channel < 120:\n",
    "            self.channel += 1\n",
    "  \n",
    "    def channelDown(self):\n",
    "        if self.on and self.channel > 1:\n",
    "            self.channel -= 1\n",
    "  \n",
    "    def volumeUp(self):\n",
    "        if self.on and self.volumeLevel < 7:\n",
    "            self.volumeLevel += 1\n",
    "  \n",
    "    def volumeDown(self):\n",
    "        if self.on and self.volumeLevel > 1:\n",
    "            self.volumeLevel -= 1\n"
   ]
  },
  {
   "cell_type": "code",
   "execution_count": 4,
   "metadata": {},
   "outputs": [
    {
     "name": "stdout",
     "output_type": "stream",
     "text": [
      "tv1's channel is 30 and volume level is 3\n",
      "tv2's channel is 3 and volume level is 2\n"
     ]
    }
   ],
   "source": [
    "# %load TestTV.py\n",
    "from TV import TV\n",
    "\n",
    "def main():\n",
    "    tv1 = TV()\n",
    "    tv1.turnOn()\n",
    "    tv1.setChannel(30)\n",
    "    tv1.setVolume(3)\n",
    "    \n",
    "    tv2 = TV()\n",
    "    tv2.turnOn()\n",
    "    tv2.channelUp()\n",
    "    tv2.channelUp()\n",
    "    tv2.volumeUp()\n",
    "    \n",
    "    print(\"tv1's channel is\", tv1.getChannel(), \n",
    "        \"and volume level is\", tv1.getVolumeLevel())\n",
    "    print(\"tv2's channel is\", tv2.getChannel(),\n",
    "        \"and volume level is\", tv2.getVolumeLevel())\n",
    "\n",
    "main() # Call the main function\n"
   ]
  },
  {
   "cell_type": "markdown",
   "metadata": {},
   "source": [
    "## 7.4 不可變更物件與可變更物件"
   ]
  },
  {
   "cell_type": "code",
   "execution_count": 5,
   "metadata": {},
   "outputs": [
    {
     "name": "stdout",
     "output_type": "stream",
     "text": [
      "Radius \t\tArea\n",
      "1 \t\t 3.141592653589793\n",
      "2 \t\t 12.566370614359172\n",
      "3 \t\t 28.274333882308138\n",
      "4 \t\t 50.26548245743669\n",
      "5 \t\t 78.53981633974483\n",
      "\n",
      "Radius is 6\n",
      "n is 5\n"
     ]
    }
   ],
   "source": [
    "# %load TestPassMutableObject.py\n",
    "from Circle import Circle \n",
    "\n",
    "def main():\n",
    "    # Create a Circle object with radius 1\n",
    "    myCircle = Circle()\n",
    "\n",
    "    # Print areas for radius 1, 2, 3, 4, and 5.\n",
    "    n = 5\n",
    "    printAreas(myCircle, n)\n",
    "\n",
    "    # Display myCircle.radius and times\n",
    "    print(\"\\nRadius is\", myCircle.radius)\n",
    "    print(\"n is\", n)\n",
    "  \n",
    "# Print a table of areas for radius \n",
    "def printAreas(c, times):\n",
    "    print(\"Radius \\t\\tArea\")\n",
    "    while times >= 1:\n",
    "        print(c.radius, \"\\t\\t\", c.getArea())\n",
    "        c.radius = c.radius + 1\n",
    "        times -= 1\n",
    "\n",
    "main() # Call the main function\n"
   ]
  },
  {
   "cell_type": "markdown",
   "metadata": {},
   "source": [
    "## 7.5 隱藏資料項目"
   ]
  },
  {
   "cell_type": "code",
   "execution_count": 6,
   "metadata": {},
   "outputs": [],
   "source": [
    "# %load CircleWithPrivateRadius.py\n",
    "import math \n",
    "\n",
    "class Circle:\n",
    "    # Construct a circle object \n",
    "    def __init__(self, radius = 1):\n",
    "        self.__radius = radius\n",
    "\n",
    "    def getRadius(self):\n",
    "        return self.__radius\n",
    "\n",
    "    def getPerimeter(self):\n",
    "        return 2 * self.__radius * math.pi\n",
    "\n",
    "    def getArea(self):\n",
    "        return self.__radius * self.__radius * math.pi"
   ]
  },
  {
   "cell_type": "markdown",
   "metadata": {},
   "source": [
    "## 類別的萃取與封裝"
   ]
  },
  {
   "cell_type": "code",
   "execution_count": 7,
   "metadata": {},
   "outputs": [
    {
     "name": "stdout",
     "output_type": "stream",
     "text": [
      "Enter yearly interest rate, for example, 7.25: 7.25\n",
      "Enter number of years as an integer: 10\n",
      "Enter loan amount, for example, 120000.95: 120000\n",
      "Enter a borrower's name: lorem\n",
      "The loan is for lorem\n",
      "The monthly payment is 1408.81\n",
      "The total payment is 169057.50\n"
     ]
    }
   ],
   "source": [
    "# %load TestLoanClass.py\n",
    "from Loan import Loan\n",
    "\n",
    "def main():\n",
    "    # Enter yearly interest rate\n",
    "    annualInterestRate = eval(input\n",
    "        (\"Enter yearly interest rate, for example, 7.25: \"))\n",
    "\n",
    "    # Enter number of years\n",
    "    numberOfYears = eval(input(\n",
    "        \"Enter number of years as an integer: \"))\n",
    "\n",
    "    # Enter loan amount\n",
    "    loanAmount = eval(input(\n",
    "        \"Enter loan amount, for example, 120000.95: \"))\n",
    "\n",
    "    # Enter a borrwer\n",
    "    borrower = input(\"Enter a borrower's name: \")\n",
    "\n",
    "    # Create a Loan object\n",
    "    loan = Loan(annualInterestRate, numberOfYears, \n",
    "        loanAmount, borrower)\n",
    "\n",
    "    # Display loan date, monthly payment, and total payment\n",
    "    print(\"The loan is for\", loan.getBorrower())\n",
    "    print(\"The monthly payment is\", format(\n",
    "        loan.getMonthlyPayment(), '.2f'))\n",
    "    print(\"The total payment is\", format(\n",
    "        loan.getTotalPayment(), '.2f'))\n",
    "\n",
    "main() # Call the main function\n"
   ]
  },
  {
   "cell_type": "markdown",
   "metadata": {},
   "source": [
    "## 物件導向思維"
   ]
  },
  {
   "cell_type": "code",
   "execution_count": 8,
   "metadata": {},
   "outputs": [
    {
     "name": "stdout",
     "output_type": "stream",
     "text": [
      "The BMI for John Doe is 20.81 Normal\n",
      "The BMI for Peter King is 30.85 Obese\n"
     ]
    }
   ],
   "source": [
    "# %load UseBMIClass.py\n",
    "from BMI import BMI\n",
    "\n",
    "def main():\n",
    "    bmi1 = BMI(\"John Doe\", 18, 145, 70)\n",
    "    print(\"The BMI for\", bmi1.getName(), \"is\",\n",
    "        bmi1.getBMI(), bmi1.getStatus())\n",
    "    \n",
    "    bmi2 = BMI(\"Peter King\", 50, 215, 70)\n",
    "    print(\"The BMI for\", bmi2.getName(), \"is\",\n",
    "        bmi2.getBMI(), bmi2.getStatus())\n",
    "\n",
    "main() # Call the main function\n"
   ]
  },
  {
   "cell_type": "markdown",
   "metadata": {},
   "source": [
    "## Others"
   ]
  },
  {
   "cell_type": "code",
   "execution_count": 15,
   "metadata": {},
   "outputs": [],
   "source": [
    "# %load GeometricObject.py\n",
    "class GeometricObject:\n",
    "    def __init__(self, color = \"green\", filled = True):\n",
    "        self.__color = color\n",
    "        self.__filled = filled\n",
    "\n",
    "    def getColor(self):\n",
    "        return self.__color\n",
    "\n",
    "    def setColor(self, color):\n",
    "        self.__color = color\n",
    "\n",
    "    def isFilled(self):\n",
    "        return self.__filled\n",
    "\n",
    "    def setFilled(self, filled):\n",
    "        self.__filled = filled\n",
    "  \n",
    "    def __str__(self):\n",
    "        return \"color: \" + self.__color + \\\n",
    "            \" and filled: \" + str(self.__filled)\n"
   ]
  },
  {
   "cell_type": "code",
   "execution_count": 16,
   "metadata": {},
   "outputs": [],
   "source": [
    "# %load CircleFromGeometricObject.py\n",
    "from GeometricObject import GeometricObject\n",
    "import math\n",
    "\n",
    "class Circle(GeometricObject):\n",
    "    def __init__(self, radius):\n",
    "        super().__init__()\n",
    "        self.__radius = radius\n",
    "\n",
    "    def getRadius(self):\n",
    "        return self.__radius\n",
    "\n",
    "    def setRadius(self, radius):\n",
    "        self.__radius = radius\n",
    "\n",
    "    def getArea(self):\n",
    "        return self.__radius * self.__radius * math.pi\n",
    "  \n",
    "    def getDiameter(self):\n",
    "        return 2 * self.__radius\n",
    "  \n",
    "    def getPerimeter(self):\n",
    "        return 2 * self.__radius * math.pi\n",
    "\n",
    "    def printCircle(self):\n",
    "        print(self.__str__() + \" radius: \" + str(self.__radius))\n"
   ]
  },
  {
   "cell_type": "code",
   "execution_count": 17,
   "metadata": {},
   "outputs": [],
   "source": [
    "# %load InvalidRadiusException.py\n",
    "class InvalidRadiusException(RuntimeError):\n",
    "    def __init__(self, radius):\n",
    "        super().__init__()\n",
    "        self.radius = radius\n"
   ]
  },
  {
   "cell_type": "code",
   "execution_count": 18,
   "metadata": {},
   "outputs": [],
   "source": [
    "# %load CircleWithCustomException.py\n",
    "from GeometricObject import GeometricObject\n",
    "from InvalidRadiusException import InvalidRadiusException \n",
    "import math\n",
    "\n",
    "class Circle(GeometricObject):\n",
    "    def __init__(self, radius):\n",
    "        super().__init__()\n",
    "        self.setRadius(radius)\n",
    "\n",
    "    def getRadius(self):\n",
    "        return self.__radius\n",
    "\n",
    "    def setRadius(self, radius):\n",
    "        if radius >= 0:\n",
    "            self.__radius = radius\n",
    "        else:\n",
    "            raise InvalidRadiusException(radius)\n",
    "\n",
    "    def getArea(self):\n",
    "        return self.__radius * self.__radius * math.pi\n",
    "  \n",
    "    def getDiameter(self):\n",
    "        return 2 * self.__radius\n",
    "  \n",
    "    def getPerimeter(self):\n",
    "        return 2 * self.__radius * math.pi\n",
    "\n",
    "    def printCircle(self):\n",
    "        print(self.__str__(), \"radius:\", self.__radius)\n"
   ]
  },
  {
   "cell_type": "code",
   "execution_count": 19,
   "metadata": {},
   "outputs": [],
   "source": [
    "# %load CircleWithException.py\n",
    "from GeometricObject import GeometricObject\n",
    "import math\n",
    "\n",
    "class Circle(GeometricObject):\n",
    "    def __init__(self, radius):\n",
    "        super().__init__()\n",
    "        self.setRadius(radius)\n",
    "\n",
    "    def getRadius(self):\n",
    "        return self.__radius\n",
    "\n",
    "    def setRadius(self, radius):\n",
    "        if radius < 0:\n",
    "            raise RuntimeError(\"Negative radius\")\n",
    "        else:\n",
    "            self.__radius = radius\n",
    "\n",
    "    def getArea(self):\n",
    "        return self.__radius * self.__radius * math.pi\n",
    "  \n",
    "    def getDiameter(self):\n",
    "        return 2 * self.__radius\n",
    "  \n",
    "    def getPerimeter(self):\n",
    "        return 2 * self.__radius * math.pi\n",
    "\n",
    "    def printCircle(self):\n",
    "        print(self.__str__() + \" radius: \" + str(self.__radius))\n"
   ]
  },
  {
   "cell_type": "code",
   "execution_count": 20,
   "metadata": {},
   "outputs": [],
   "source": [
    "# %load CircleWithPrivateRadius.py\n",
    "import math \n",
    "\n",
    "class Circle:\n",
    "    # Construct a circle object \n",
    "    def __init__(self, radius = 1):\n",
    "        self.__radius = radius\n",
    "\n",
    "    def getRadius(self):\n",
    "        return self.__radius\n",
    "\n",
    "    def getPerimeter(self):\n",
    "        return 2 * self.__radius * math.pi\n",
    "\n",
    "    def getArea(self):\n",
    "        return self.__radius * self.__radius * math.pi"
   ]
  },
  {
   "cell_type": "code",
   "execution_count": null,
   "metadata": {},
   "outputs": [],
   "source": []
  }
 ],
 "metadata": {
  "kernelspec": {
   "display_name": "Python 3",
   "language": "python",
   "name": "python3"
  },
  "language_info": {
   "codemirror_mode": {
    "name": "ipython",
    "version": 3
   },
   "file_extension": ".py",
   "mimetype": "text/x-python",
   "name": "python",
   "nbconvert_exporter": "python",
   "pygments_lexer": "ipython3",
   "version": "3.8.3"
  },
  "toc": {
   "base_numbering": 1,
   "nav_menu": {},
   "number_sections": true,
   "sideBar": true,
   "skip_h1_title": false,
   "title_cell": "Table of Contents",
   "title_sidebar": "Contents",
   "toc_cell": false,
   "toc_position": {},
   "toc_section_display": true,
   "toc_window_display": false
  },
  "varInspector": {
   "cols": {
    "lenName": 16,
    "lenType": 16,
    "lenVar": 40
   },
   "kernels_config": {
    "python": {
     "delete_cmd_postfix": "",
     "delete_cmd_prefix": "del ",
     "library": "var_list.py",
     "varRefreshCmd": "print(var_dic_list())"
    },
    "r": {
     "delete_cmd_postfix": ") ",
     "delete_cmd_prefix": "rm(",
     "library": "var_list.r",
     "varRefreshCmd": "cat(var_dic_list()) "
    }
   },
   "types_to_exclude": [
    "module",
    "function",
    "builtin_function_or_method",
    "instance",
    "_Feature"
   ],
   "window_display": false
  }
 },
 "nbformat": 4,
 "nbformat_minor": 4
}