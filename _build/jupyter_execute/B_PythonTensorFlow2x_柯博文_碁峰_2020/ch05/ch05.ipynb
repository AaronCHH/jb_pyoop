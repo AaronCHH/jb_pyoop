{
 "cells": [
  {
   "cell_type": "markdown",
   "metadata": {},
   "source": [
    "# Ch05 OOP"
   ]
  },
  {
   "cell_type": "code",
   "execution_count": 1,
   "metadata": {},
   "outputs": [
    {
     "name": "stdout",
     "output_type": "stream",
     "text": [
      "this is function1\n"
     ]
    }
   ],
   "source": [
    "# %load ch05-OOP/01-def1.py\n",
    "#!/usr/bin/env\n",
    "def fun1():\n",
    "  print(\"this is function1\")\n",
    "\n",
    "\n",
    "fun1()"
   ]
  },
  {
   "cell_type": "code",
   "execution_count": 2,
   "metadata": {},
   "outputs": [
    {
     "name": "stdout",
     "output_type": "stream",
     "text": [
      "this is function2=100\n",
      "this is function2=200\n"
     ]
    }
   ],
   "source": [
    "# %load ch05-OOP/02-def2.py\n",
    "#!/usr/bin/env\n",
    "def fun2(num):\n",
    "  print(\"this is function2=\" + str(num))\n",
    "\n",
    "\n",
    "fun2(100)\n",
    "fun2(num=200)"
   ]
  },
  {
   "cell_type": "code",
   "execution_count": 3,
   "metadata": {},
   "outputs": [
    {
     "name": "stdout",
     "output_type": "stream",
     "text": [
      "4\n",
      "5\n",
      "1\n",
      "0\n",
      "1\n",
      "2\n"
     ]
    }
   ],
   "source": [
    "# %load ch05-OOP/03-def3.py\n",
    "#!/usr/bin/env\n",
    "__author__ = \"Powen Ko, www.powenko.com\"\n",
    "\n",
    "\n",
    "def fun3(num1=0, num2=0):\n",
    "  return (num1 * 2) + num2\n",
    "\n",
    "\n",
    "print(fun3(1, 2))\n",
    "print(fun3(num2=1, num1=2))\n",
    "print(fun3(num2=1))\n",
    "a = fun3()\n",
    "print(a)\n",
    "\n",
    "\n",
    "def fun4():\n",
    "  return 1, 2\n",
    "\n",
    "\n",
    "a, b = fun4()\n",
    "print(a)\n",
    "print(b)"
   ]
  },
  {
   "cell_type": "code",
   "execution_count": 4,
   "metadata": {},
   "outputs": [
    {
     "name": "stdout",
     "output_type": "stream",
     "text": [
      "1*1=1\n",
      "1*2=2\n",
      "1*3=3\n",
      "1*4=4\n",
      "1*5=5\n",
      "1*6=6\n",
      "1*7=7\n",
      "1*8=8\n",
      "1*9=9\n",
      "2*1=2\n",
      "2*2=4\n",
      "2*3=6\n",
      "2*4=8\n",
      "2*5=10\n",
      "2*6=12\n",
      "2*7=14\n",
      "2*8=16\n",
      "2*9=18\n",
      "3*1=3\n",
      "3*2=6\n",
      "3*3=9\n",
      "3*4=12\n",
      "3*5=15\n",
      "3*6=18\n",
      "3*7=21\n",
      "3*8=24\n",
      "3*9=27\n",
      "4*1=4\n",
      "4*2=8\n",
      "4*3=12\n",
      "4*4=16\n",
      "4*5=20\n",
      "4*6=24\n",
      "4*7=28\n",
      "4*8=32\n",
      "4*9=36\n",
      "5*1=5\n",
      "5*2=10\n",
      "5*3=15\n",
      "5*4=20\n",
      "5*5=25\n",
      "5*6=30\n",
      "5*7=35\n",
      "5*8=40\n",
      "5*9=45\n",
      "6*1=6\n",
      "6*2=12\n",
      "6*3=18\n",
      "6*4=24\n",
      "6*5=30\n",
      "6*6=36\n",
      "6*7=42\n",
      "6*8=48\n",
      "6*9=54\n",
      "7*1=7\n",
      "7*2=14\n",
      "7*3=21\n",
      "7*4=28\n",
      "7*5=35\n",
      "7*6=42\n",
      "7*7=49\n",
      "7*8=56\n",
      "7*9=63\n",
      "8*1=8\n",
      "8*2=16\n",
      "8*3=24\n",
      "8*4=32\n",
      "8*5=40\n",
      "8*6=48\n",
      "8*7=56\n",
      "8*8=64\n",
      "8*9=72\n",
      "9*1=9\n",
      "9*2=18\n",
      "9*3=27\n",
      "9*4=36\n",
      "9*5=45\n",
      "9*6=54\n",
      "9*7=63\n",
      "9*8=72\n",
      "9*9=81\n"
     ]
    }
   ],
   "source": [
    "# %load ch05-OOP/04-def4.py\n",
    "#!/usr/bin/env\n",
    "def fun3(n1, n2):\n",
    "  print(str(n1) + \"*\" + str(n2) + \"=\" + str(n1 * n2))\n",
    "\n",
    "\n",
    "x = 0\n",
    "while x < 9:\n",
    "  x = x + 1\n",
    "  y = 1\n",
    "  while y < 10:\n",
    "    fun3(x, y)\n",
    "    y = y + 1"
   ]
  },
  {
   "cell_type": "code",
   "execution_count": 5,
   "metadata": {},
   "outputs": [
    {
     "name": "stdout",
     "output_type": "stream",
     "text": [
      "4\n"
     ]
    }
   ],
   "source": [
    "# %load ch05-OOP/05-def5.py\n",
    "#!/usr/bin/env\n",
    "__author__ = \"Powen Ko, www.powenko.com\"\n",
    "\"\"\"\n",
    "def fun3(num1=0,num2=0):\n",
    "    return (num1*2)+num2\n",
    "\"\"\"\n",
    "import MyFun\n",
    "\n",
    "a = MyFun.fun3(1, 2)\n",
    "print(a)"
   ]
  },
  {
   "cell_type": "code",
   "execution_count": 6,
   "metadata": {},
   "outputs": [
    {
     "name": "stdout",
     "output_type": "stream",
     "text": [
      "hello\n"
     ]
    }
   ],
   "source": [
    "# %load ch05-OOP/06-class1.py\n",
    "class MyClass(object):\n",
    "  def __init__(self):\n",
    "    print(\"hello\")\n",
    "\n",
    "\n",
    "g = MyClass()"
   ]
  },
  {
   "cell_type": "code",
   "execution_count": 7,
   "metadata": {},
   "outputs": [
    {
     "name": "stdout",
     "output_type": "stream",
     "text": [
      "hello PowenKo\n"
     ]
    }
   ],
   "source": [
    "# %load ch05-OOP/07-class2-init.py\n",
    "class Myclass(object):\n",
    "  def __init__(self, name):\n",
    "    print(\"hello \" + name)\n",
    "\n",
    "\n",
    "g = Myclass(name=\"PowenKo\")\n",
    "# g1=Myclass(name=\"PowenKo\")"
   ]
  },
  {
   "cell_type": "code",
   "execution_count": 8,
   "metadata": {},
   "outputs": [
    {
     "name": "stdout",
     "output_type": "stream",
     "text": [
      "hello Powen\n",
      "fun1\n",
      "4\n",
      "5\n"
     ]
    }
   ],
   "source": [
    "# %load ch05-OOP/08-class3-fun.py\n",
    "class MyClass(object):\n",
    "  def __init__(self, name):\n",
    "    print(\"hello \"+str(name))\n",
    "\n",
    "  def fun1(self):\n",
    "    print(\"fun1\")\n",
    "\n",
    "  def fun3(self, num1=0, num2=0):\n",
    "    return (num1 * 2) + num2\n",
    "\n",
    "\n",
    "g = MyClass(\"Powen\")\n",
    "g.fun1()\n",
    "print(g.fun3(1, 2))\n",
    "print(g.fun3(num2=1, num1=2))"
   ]
  },
  {
   "cell_type": "code",
   "execution_count": 9,
   "metadata": {},
   "outputs": [
    {
     "name": "stdout",
     "output_type": "stream",
     "text": [
      "8*8=64\n",
      "8*9=72\n",
      "9*8=72\n",
      "9*9=81\n",
      "8\n",
      "8\n"
     ]
    }
   ],
   "source": [
    "# %load ch05-OOP/09-class4-selfValue.py\n",
    "class MyClass(object):\n",
    "  mX = 1\n",
    "  mY = 1\n",
    "\n",
    "  def __init__(self, x, y):\n",
    "    self.mX = x\n",
    "    self.mY = y\n",
    "    self.x1 = x\n",
    "\n",
    "  def fun1(self):\n",
    "    s = \"\"\n",
    "    for x in range(self.mX, 10, 1):\n",
    "      for y in range(self.mY, 10, 1):\n",
    "        s = str(x) + \"*\" + str(y) + \"=\" + str(x * y)\n",
    "        print(s)\n",
    "    print(self.x1)\n",
    "\n",
    "\n",
    "x = 1\n",
    "g = MyClass(8, 8)\n",
    "g.fun1()\n",
    "print(g.mX)"
   ]
  },
  {
   "cell_type": "code",
   "execution_count": 10,
   "metadata": {},
   "outputs": [
    {
     "name": "stdout",
     "output_type": "stream",
     "text": [
      "8*8=64\n",
      "8*9=72\n",
      "9*8=72\n",
      "9*9=81\n"
     ]
    }
   ],
   "source": [
    "# %load ch05-OOP/10-class5-selfdef.py\n",
    "class MyClass(object):\n",
    "  mX = 1\n",
    "  mY = 1\n",
    "\n",
    "  def __init__(self, x, y):\n",
    "    self.mX = x\n",
    "    self.mY = y\n",
    "\n",
    "  def fun1(self):\n",
    "    s = \"\"\n",
    "    for x in range(self.mX, 10, 1):\n",
    "      for y in range(self.mY, 10, 1):\n",
    "        self.fun2(x, y)\n",
    "\n",
    "  def fun2(self, x, y):\n",
    "    s = str(x) + \"*\" + str(y) + \"=\" + str(x * y)\n",
    "    print(s)\n",
    "\n",
    "\n",
    "g = MyClass(8, 8)\n",
    "g.fun1()"
   ]
  },
  {
   "cell_type": "code",
   "execution_count": 11,
   "metadata": {},
   "outputs": [
    {
     "name": "stdout",
     "output_type": "stream",
     "text": [
      "7\n",
      "fun1\n"
     ]
    }
   ],
   "source": [
    "# %load ch05-OOP/11-class6-PubPri.py\n",
    "class MyClass(object):\n",
    "  mMyPub = 1\n",
    "  __mMyPri = 1\n",
    "\n",
    "  def __init__(self, x, y):\n",
    "    self.mMyPub = x\n",
    "    self.__mMyPri = y\n",
    "\n",
    "  def funPub(self):\n",
    "    print(\"fun1\")\n",
    "\n",
    "  def __funPri(self):\n",
    "    print(\"fun2\")\n",
    "\n",
    "\n",
    "g = MyClass(7, 7)\n",
    "print(g.mMyPub)\n",
    "# print(g.__mMyPri)\n",
    "g.funPub()\n",
    "# g.__funPri()"
   ]
  },
  {
   "cell_type": "code",
   "execution_count": 12,
   "metadata": {},
   "outputs": [
    {
     "name": "stdout",
     "output_type": "stream",
     "text": [
      "8*8=64\n",
      "8*9=72\n",
      "9*8=72\n",
      "9*9=81\n"
     ]
    }
   ],
   "source": [
    "# %load ch05-OOP/12-class7-import.py\n",
    "from MyClass import MyClass\n",
    "\n",
    "g = MyClass(8, 8)\n",
    "g.fun1()"
   ]
  },
  {
   "cell_type": "code",
   "execution_count": 13,
   "metadata": {},
   "outputs": [
    {
     "name": "stdout",
     "output_type": "stream",
     "text": [
      "MyClassChild Powen Ko\n",
      "MyClass -> fun1\n",
      "MyClassChild -> fun2\n"
     ]
    }
   ],
   "source": [
    "# %load ch05-OOP/13-class8-inheritance.py\n",
    "class MyClass(object):\n",
    "  def __init__(self, name):\n",
    "    print(\"MyClass \" + str(name))\n",
    "\n",
    "  def fun1(self):\n",
    "    print(\"MyClass -> fun1\")\n",
    "\n",
    "\n",
    "class MyClassChild(MyClass):\n",
    "  def __init__(self, name):\n",
    "    print(\"MyClassChild \" + str(name))\n",
    "\n",
    "  def fun2(self):\n",
    "    print(\"MyClassChild -> fun2\")\n",
    "\n",
    "\n",
    "g = MyClassChild(\"Powen Ko\")\n",
    "g.fun1()\n",
    "g.fun2()"
   ]
  },
  {
   "cell_type": "code",
   "execution_count": 14,
   "metadata": {},
   "outputs": [
    {
     "name": "stdout",
     "output_type": "stream",
     "text": [
      "MyClassChild Powen Ko\n",
      "MyClass -> fun1\n",
      "MyClass2 -> fun2\n",
      "MyClassChild -> fun3\n"
     ]
    }
   ],
   "source": [
    "# %load ch05-OOP/14-class9-2inheritance.py\n",
    "#!/usr/bin/env\n",
    "__author__ = \"Powen Ko, www.powenko.com\"\n",
    "\n",
    "\n",
    "class MyClass(object):\n",
    "  def fun1(self):\n",
    "    print(\"MyClass -> fun1\")\n",
    "\n",
    "\n",
    "class MyClass2(object):\n",
    "  def fun2(self):\n",
    "    print(\"MyClass2 -> fun2\")\n",
    "\n",
    "\n",
    "class MyClassChild(MyClass, MyClass2):\n",
    "  def __init__(self, name):\n",
    "    print(\"MyClassChild \" + str(name))\n",
    "\n",
    "  def fun3(self):\n",
    "    print(\"MyClassChild -> fun3\")\n",
    "\n",
    "\n",
    "g = MyClassChild(\"Powen Ko\")\n",
    "g.fun1()\n",
    "g.fun2()\n",
    "g.fun3()"
   ]
  },
  {
   "cell_type": "code",
   "execution_count": 15,
   "metadata": {},
   "outputs": [
    {
     "name": "stdout",
     "output_type": "stream",
     "text": [
      "MyClassChild Powen Ko\n",
      "MyClass -> fun1\n",
      "MyClass -> fun2\n",
      "MyClassChild -> fun3\n"
     ]
    }
   ],
   "source": [
    "# %load ch05-OOP/15-class10-inheritanceSuper.py\n",
    "#!/usr/bin/env\n",
    "__author__ = \"Powen Ko, www.powenko.com\"\n",
    "\n",
    "\n",
    "class MyClass(object):\n",
    "  def fun1(self):\n",
    "    print(\"MyClass -> fun1\")\n",
    "\n",
    "  def fun2(self):\n",
    "    print(\"MyClass -> fun2\")\n",
    "\n",
    "\n",
    "class MyClassChild(MyClass):\n",
    "  def __init__(self, name):\n",
    "    print(\"MyClassChild \" + str(name))\n",
    "\n",
    "  def fun2(self):\n",
    "    try:\n",
    "      super().fun2()  # 3.x\n",
    "    except:\n",
    "      super(MyClassChild, self).fun2()  # 2.7\n",
    "    print(\"MyClassChild -> fun3\")\n",
    "\n",
    "\n",
    "g = MyClassChild(\"Powen Ko\")\n",
    "g.fun1()\n",
    "g.fun2()"
   ]
  },
  {
   "cell_type": "code",
   "execution_count": 16,
   "metadata": {},
   "outputs": [
    {
     "name": "stdout",
     "output_type": "stream",
     "text": [
      "MyClassChild Powen Ko\n",
      "MyClass -> fun1\n",
      "MyClass -> fun2\n",
      "MyClassChild -> fun3\n",
      "1\n",
      "2\n",
      "13\n",
      "3\n"
     ]
    }
   ],
   "source": [
    "# %load ch05-OOP/38class10-inheritanceSuperValue.py\n",
    "#!/usr/bin/env\n",
    "__author__ = \"Powen Ko, www.powenko.com\"\n",
    "\n",
    "\n",
    "class MyClass(object):\n",
    "  value2 = 2\n",
    "  value3 = 3\n",
    "\n",
    "  def fun1(self):\n",
    "    print(\"MyClass -> fun1\")\n",
    "\n",
    "  def fun2(self):\n",
    "    print(\"MyClass -> fun2\")\n",
    "    self.value1 = 1\n",
    "\n",
    "\n",
    "class MyClassChild(MyClass):\n",
    "  value3 = 13\n",
    "\n",
    "  def __init__(self, name):\n",
    "    print(\"MyClassChild \" + str(name))\n",
    "\n",
    "  def fun2(self):\n",
    "    try:\n",
    "      super().fun2()  # 3.x\n",
    "    except:\n",
    "      super(MyClassChild, self).fun2()  # 2.7\n",
    "    print(\"MyClassChild -> fun3\")\n",
    "    print(self.value1)\n",
    "    print(self.value2)\n",
    "    print(self.value3)\n",
    "    print(super(MyClassChild, self).value3)\n",
    "\n",
    "\n",
    "g = MyClassChild(\"Powen Ko\")\n",
    "g.fun1()\n",
    "g.fun2()"
   ]
  },
  {
   "cell_type": "code",
   "execution_count": 17,
   "metadata": {},
   "outputs": [],
   "source": [
    "# %load ch05-OOP/MyClass.py\n",
    "class MyClass(object):\n",
    "  mX = 1\n",
    "  mY = 1\n",
    "\n",
    "  def __init__(self, x, y):\n",
    "    self.mX = x\n",
    "    self.mY = y\n",
    "\n",
    "  def fun1(self):\n",
    "    s = \"\"\n",
    "    for x in range(self.mX, 10, 1):\n",
    "      for y in range(self.mY, 10, 1):\n",
    "        self.fun2(x, y)\n",
    "\n",
    "  def fun2(self, x, y):\n",
    "    s = str(x) + \"*\" + str(y) + \"=\" + str(x * y)\n",
    "    print(s)"
   ]
  },
  {
   "cell_type": "code",
   "execution_count": 18,
   "metadata": {},
   "outputs": [],
   "source": [
    "# %load ch05-OOP/MyFun.py\n",
    "#!/usr/bin/env\n",
    "__author__ = \"Powen Ko, www.powenko.com\"\n",
    "\n",
    "\n",
    "def fun3(num1=0, num2=0):\n",
    "  return (num1 * 2) + num2"
   ]
  }
 ],
 "metadata": {
  "kernelspec": {
   "display_name": "Python 3",
   "language": "python",
   "name": "python3"
  },
  "language_info": {
   "codemirror_mode": {
    "name": "ipython",
    "version": 3
   },
   "file_extension": ".py",
   "mimetype": "text/x-python",
   "name": "python",
   "nbconvert_exporter": "python",
   "pygments_lexer": "ipython3",
   "version": "3.8.3"
  },
  "toc": {
   "base_numbering": 1,
   "nav_menu": {},
   "number_sections": true,
   "sideBar": true,
   "skip_h1_title": false,
   "title_cell": "Table of Contents",
   "title_sidebar": "Contents",
   "toc_cell": false,
   "toc_position": {},
   "toc_section_display": true,
   "toc_window_display": false
  },
  "varInspector": {
   "cols": {
    "lenName": 16,
    "lenType": 16,
    "lenVar": 40
   },
   "kernels_config": {
    "python": {
     "delete_cmd_postfix": "",
     "delete_cmd_prefix": "del ",
     "library": "var_list.py",
     "varRefreshCmd": "print(var_dic_list())"
    },
    "r": {
     "delete_cmd_postfix": ") ",
     "delete_cmd_prefix": "rm(",
     "library": "var_list.r",
     "varRefreshCmd": "cat(var_dic_list()) "
    }
   },
   "types_to_exclude": [
    "module",
    "function",
    "builtin_function_or_method",
    "instance",
    "_Feature"
   ],
   "window_display": false
  }
 },
 "nbformat": 4,
 "nbformat_minor": 4
}