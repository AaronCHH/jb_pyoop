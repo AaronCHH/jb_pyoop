{
 "cells": [
  {
   "cell_type": "markdown",
   "metadata": {},
   "source": [
    "# Ch08 類別"
   ]
  },
  {
   "cell_type": "markdown",
   "metadata": {},
   "source": [
    "## 8.1 類別的基礎"
   ]
  },
  {
   "cell_type": "code",
   "execution_count": 12,
   "metadata": {},
   "outputs": [],
   "source": [
    "## Sample1\n",
    "\n",
    "class Person:\n",
    "\n",
    "  def getName(self):\n",
    "    return self.name\n",
    "\n",
    "  def getAge(self):\n",
    "    return self.age\n",
    "\n",
    "\n",
    "pr = Person()\n",
    "pr.name = \"鈴木\"\n",
    "pr.age = 23\n",
    "\n",
    "n = pr.getName()\n",
    "a = pr.getAge()\n",
    "\n",
    "print(n, \"先生/小姐\", a, \"歲。\")"
   ]
  },
  {
   "cell_type": "code",
   "execution_count": null,
   "metadata": {},
   "outputs": [],
   "source": [
    "## Sample2\n",
    "\n",
    "class Person:\n",
    "\n",
    "  def getName(self):\n",
    "    return self.name\n",
    "\n",
    "  def getAge(self):\n",
    "    return self.age\n",
    "\n",
    "pr1 = Person()\n",
    "pr1.name = \"鈴木\"\n",
    "pr1.age = 23\n",
    "n1 = pr1.getName()\n",
    "a1 = pr1.getAge()\n",
    "\n",
    "pr2 = Person()\n",
    "pr2.name = \"佐藤\"\n",
    "pr2.age = 38\n",
    "n2 = pr2.getName()\n",
    "a2 = pr2.getAge()\n",
    "\n",
    "print(n1, \"先生/小姐\", a1, \"歲。\")\n",
    "print(n2, \"先生/小姐\", a2, \"歲。\")"
   ]
  },
  {
   "cell_type": "markdown",
   "metadata": {},
   "source": [
    "## 8.2 建構子"
   ]
  },
  {
   "cell_type": "code",
   "execution_count": 14,
   "metadata": {},
   "outputs": [],
   "source": [
    "## Sample3\n",
    "\n",
    "class Person:\n",
    "\n",
    "  def __init__(self, name, age):\n",
    "    self.name = name\n",
    "    self.age = age\n",
    "\n",
    "  def getName(self):\n",
    "    return self.name\n",
    "\n",
    "  def getAge(self):\n",
    "    return self.age"
   ]
  },
  {
   "cell_type": "code",
   "execution_count": 21,
   "metadata": {},
   "outputs": [
    {
     "name": "stdout",
     "output_type": "stream",
     "text": [
      "鈴木 先生 23 歲。\n"
     ]
    }
   ],
   "source": [
    "pr = Person(\"鈴木\", 23)\n",
    "\n",
    "n = pr.getName()\n",
    "a = pr.getAge()\n",
    "\n",
    "print(n, \"先生\", a, \"歲。\")"
   ]
  },
  {
   "cell_type": "code",
   "execution_count": 22,
   "metadata": {},
   "outputs": [],
   "source": [
    "# pr1 = Person()\n",
    "# pr1.name = \"鈴木\"\n",
    "# pr1.age = 23\n",
    "# n1 = pr1.getName()\n",
    "# a1 = pr1.getAge()"
   ]
  },
  {
   "cell_type": "markdown",
   "metadata": {},
   "source": [
    "## 8.3 類別變數及類別方法"
   ]
  },
  {
   "cell_type": "code",
   "execution_count": 23,
   "metadata": {},
   "outputs": [],
   "source": [
    "## Sample4\n",
    "\n",
    "class Person:\n",
    "  count = 0\n",
    "\n",
    "  def __init__(self, name, age):\n",
    "    Person.count = Person.count + 1\n",
    "\n",
    "    self.name = name\n",
    "    self.age = age\n",
    "\n",
    "  def getName(self):\n",
    "    return self.name\n",
    "\n",
    "  def getAge(self):\n",
    "    return self.age\n",
    "\n",
    "  @classmethod\n",
    "  def getCount(cls):\n",
    "    return cls.count\n",
    "\n",
    "\n",
    "pr1 = Person(\"鈴木\", 23)\n",
    "pr2 = Person(\"佐藤\", 38)\n",
    "\n",
    "pr1.name = \"鈴木2\"\n",
    "pr1.age = 24\n",
    "\n",
    "print(pr1.getName(), \"先生/小姐\", pr1.getAge(), \"歲。\")\n",
    "print(pr2.getName(), \"先生/小姐\", pr2.getAge(), \"歲。\")\n",
    "print(\"合計人數為\", Person.getCount(), \"人。\")"
   ]
  },
  {
   "cell_type": "code",
   "execution_count": 25,
   "metadata": {},
   "outputs": [
    {
     "name": "stdout",
     "output_type": "stream",
     "text": [
      "鈴木2 先生/小姐 23 歲。\n",
      "佐藤 先生/小姐 38 歲。\n",
      "合計人數為 2 人。\n"
     ]
    }
   ],
   "source": [
    "class Person:\n",
    "  count = 0\n",
    "\n",
    "  def __init__(self, name, age):\n",
    "    Person.count = Person.count + 1\n",
    "\n",
    "    self.name = name\n",
    "    self.__age = age\n",
    "\n",
    "  def getName(self):\n",
    "    return self.name\n",
    "\n",
    "  def getAge(self):\n",
    "    return self.__age\n",
    "\n",
    "  @classmethod\n",
    "  def getCount(cls):\n",
    "    return cls.count\n",
    "\n",
    "\n",
    "pr1 = Person(\"鈴木\", 23)\n",
    "pr2 = Person(\"佐藤\", 38)\n",
    "\n",
    "pr1.name = \"鈴木2\"\n",
    "pr1.age = 24\n",
    "\n",
    "print(pr1.getName(), \"先生/小姐\", pr1.getAge(), \"歲。\")\n",
    "print(pr2.getName(), \"先生/小姐\", pr2.getAge(), \"歲。\")\n",
    "print(\"合計人數為\", Person.getCount(), \"人。\")"
   ]
  },
  {
   "cell_type": "markdown",
   "metadata": {},
   "source": [
    "## 8.4 封裝"
   ]
  },
  {
   "cell_type": "markdown",
   "metadata": {},
   "source": [
    "## 8.5 新的類別"
   ]
  },
  {
   "cell_type": "code",
   "execution_count": 26,
   "metadata": {},
   "outputs": [
    {
     "name": "stdout",
     "output_type": "stream",
     "text": [
      "客戶：鈴木 先生/小姐 23 歲。\n",
      "E-mail： mmm@nnn.nn.jp 電話號碼： xxx-xxx-xxxx 。\n"
     ]
    }
   ],
   "source": [
    "# %load Sample5.py\n",
    "class Person:\n",
    "\n",
    "  def __init__(self, name, age):\n",
    "    self.name = name\n",
    "    self.age = age\n",
    "\n",
    "  def getName(self):\n",
    "    return self.name\n",
    "\n",
    "  def getAge(self):\n",
    "    return self.age\n",
    "\n",
    "\n",
    "class Customer(Person):\n",
    "  def __init__(self, nm, ag, ad, tl):\n",
    "    super().__init__(nm, ag)\n",
    "\n",
    "    self.adr = ad\n",
    "    self.tel = tl\n",
    "\n",
    "  def getName(self):\n",
    "    self.name = \"客戶：\" + self.name\n",
    "    return self.name\n",
    "\n",
    "  def getAdr(self):\n",
    "    return self.adr\n",
    "\n",
    "  def getTel(self):\n",
    "    return self.tel\n",
    "\n",
    "\n",
    "pr = Customer(\"鈴木\", 23, \"mmm@nnn.nn.jp\", \"xxx-xxx-xxxx\")\n",
    "\n",
    "nm = pr.getName()\n",
    "ag = pr.getAge()\n",
    "ad = pr.getAdr()\n",
    "tl = pr.getTel()\n",
    "\n",
    "print(nm, \"先生/小姐\", ag, \"歲。\")\n",
    "print(\"E-mail：\", ad, \"電話號碼：\", tl, \"。\")"
   ]
  },
  {
   "cell_type": "markdown",
   "metadata": {},
   "source": [
    "## 8.6 與類別相關的主題"
   ]
  },
  {
   "cell_type": "markdown",
   "metadata": {},
   "source": [
    "## 8.7 模組"
   ]
  },
  {
   "cell_type": "code",
   "execution_count": 27,
   "metadata": {},
   "outputs": [],
   "source": [
    "# %load myclass.py\n",
    "class Person:\n",
    "\n",
    "  def __init__(self, name, age):\n",
    "    self.name = name\n",
    "    self.age = age\n",
    "\n",
    "  def getName(self):\n",
    "    return self.name\n",
    "\n",
    "  def getAge(self):\n",
    "    return self.age\n",
    "\n",
    "\n",
    "class Customer(Person):\n",
    "  def __init__(self, nm, ag, ad, tl):\n",
    "    super().__init__(nm, ag)\n",
    "\n",
    "    self.adr = ad\n",
    "    self.tel = tl\n",
    "\n",
    "  def getName(self):\n",
    "    self.name = \"客戶\" + self.name\n",
    "\n",
    "    return self.name\n",
    "\n",
    "  def getAdr(self):\n",
    "    return self.adr\n",
    "\n",
    "  def getTel(self):\n",
    "    return self.tel"
   ]
  },
  {
   "cell_type": "code",
   "execution_count": 28,
   "metadata": {},
   "outputs": [
    {
     "name": "stdout",
     "output_type": "stream",
     "text": [
      "客戶鈴木 先生/小姐 23 歲。\n",
      "E-mail： mmm@nnn.nn.jp 電話號碼： xxx-xxx-xxxx 。\n"
     ]
    }
   ],
   "source": [
    "# %load Sample6.py\n",
    "import myclass\n",
    "\n",
    "pr = myclass.Customer(\"鈴木\", 23, \"mmm@nnn.nn.jp\", \"xxx-xxx-xxxx\")\n",
    "\n",
    "nm = pr.getName()\n",
    "ag = pr.getAge()\n",
    "ad = pr.getAdr()\n",
    "tl = pr.getTel()\n",
    "\n",
    "print(nm, \"先生/小姐\", ag, \"歲。\")\n",
    "print(\"E-mail：\", ad, \"電話號碼：\", tl, \"。\")"
   ]
  },
  {
   "cell_type": "markdown",
   "metadata": {},
   "source": [
    "## 8.8 模組的應用"
   ]
  },
  {
   "cell_type": "code",
   "execution_count": 29,
   "metadata": {},
   "outputs": [
    {
     "name": "stdout",
     "output_type": "stream",
     "text": [
      "客戶鈴木 先生/小姐 23 歲。\n",
      "E-mail： mmm@nnn.nn.jp 電話號碼： xxx-xxx-xxxx 。\n"
     ]
    }
   ],
   "source": [
    "# %load Sample6.py\n",
    "import myclass\n",
    "\n",
    "pr = myclass.Customer(\"鈴木\", 23, \"mmm@nnn.nn.jp\", \"xxx-xxx-xxxx\")\n",
    "\n",
    "nm = pr.getName()\n",
    "ag = pr.getAge()\n",
    "ad = pr.getAdr()\n",
    "tl = pr.getTel()\n",
    "\n",
    "print(nm, \"先生/小姐\", ag, \"歲。\")\n",
    "print(\"E-mail：\", ad, \"電話號碼：\", tl, \"。\")"
   ]
  },
  {
   "cell_type": "markdown",
   "metadata": {},
   "source": [
    "## 8.9 標準函式庫"
   ]
  },
  {
   "cell_type": "code",
   "execution_count": 30,
   "metadata": {},
   "outputs": [
    {
     "name": "stdout",
     "output_type": "stream",
     "text": [
      "    October 2019\n",
      "Mo Tu We Th Fr Sa Su\n",
      "    1  2  3  4  5  6\n",
      " 7  8  9 10 11 12 13\n",
      "14 15 16 17 18 19 20\n",
      "21 22 23 24 25 26 27\n",
      "28 29 30 31\n"
     ]
    }
   ],
   "source": [
    "# %load Sample7.py\n",
    "import calendar\n",
    "\n",
    "c = calendar.TextCalendar()\n",
    "c.prmonth(2019, 10)"
   ]
  },
  {
   "cell_type": "markdown",
   "metadata": {},
   "source": [
    "## References"
   ]
  },
  {
   "cell_type": "markdown",
   "metadata": {},
   "source": [
    "* https://stackoverflow.com/questions/4664850/how-to-find-all-occurrences-of-a-substring"
   ]
  },
  {
   "cell_type": "code",
   "execution_count": null,
   "metadata": {},
   "outputs": [],
   "source": []
  }
 ],
 "metadata": {
  "@webio": {
   "lastCommId": null,
   "lastKernelId": null
  },
  "hide_input": false,
  "kernelspec": {
   "display_name": "Python 3",
   "language": "python",
   "name": "python3"
  },
  "language_info": {
   "codemirror_mode": {
    "name": "ipython",
    "version": 3
   },
   "file_extension": ".py",
   "mimetype": "text/x-python",
   "name": "python",
   "nbconvert_exporter": "python",
   "pygments_lexer": "ipython3",
   "version": "3.8.3"
  },
  "toc": {
   "base_numbering": 1,
   "nav_menu": {},
   "number_sections": true,
   "sideBar": true,
   "skip_h1_title": false,
   "title_cell": "Table of Contents",
   "title_sidebar": "Contents",
   "toc_cell": false,
   "toc_position": {},
   "toc_section_display": true,
   "toc_window_display": true
  },
  "varInspector": {
   "cols": {
    "lenName": 16,
    "lenType": 16,
    "lenVar": 40
   },
   "kernels_config": {
    "python": {
     "delete_cmd_postfix": "",
     "delete_cmd_prefix": "del ",
     "library": "var_list.py",
     "varRefreshCmd": "print(var_dic_list())"
    },
    "r": {
     "delete_cmd_postfix": ") ",
     "delete_cmd_prefix": "rm(",
     "library": "var_list.r",
     "varRefreshCmd": "cat(var_dic_list()) "
    }
   },
   "types_to_exclude": [
    "module",
    "function",
    "builtin_function_or_method",
    "instance",
    "_Feature"
   ],
   "window_display": false
  }
 },
 "nbformat": 4,
 "nbformat_minor": 2
}