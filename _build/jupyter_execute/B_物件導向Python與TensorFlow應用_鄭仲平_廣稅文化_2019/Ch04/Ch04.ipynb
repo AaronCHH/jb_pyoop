{
 "cells": [
  {
   "cell_type": "markdown",
   "metadata": {},
   "source": [
    "# Ch04 物件之組合"
   ]
  },
  {
   "cell_type": "markdown",
   "metadata": {},
   "source": [
    "## 4.1 self"
   ]
  },
  {
   "cell_type": "code",
   "execution_count": 12,
   "metadata": {},
   "outputs": [
    {
     "name": "stdout",
     "output_type": "stream",
     "text": [
      "Amount is: 100\n",
      "Amount is: 80\n"
     ]
    }
   ],
   "source": [
    "# %load ex04-01.py\n",
    "class Fee():\n",
    "  def __init__(self, amt):\n",
    "    self.amount = amt\n",
    "\n",
    "  def disp(self):\n",
    "    print(\"Amount is:\", self.amount)\n",
    "\n",
    "\n",
    "if __name__ == '__main__':\n",
    "  a = Fee(100)\n",
    "  b = Fee(80)\n",
    "  a.disp()\n",
    "  b.disp()"
   ]
  },
  {
   "cell_type": "markdown",
   "metadata": {},
   "source": [
    "## 4.2 物件之包含關係"
   ]
  },
  {
   "cell_type": "code",
   "execution_count": 13,
   "metadata": {},
   "outputs": [
    {
     "name": "stdout",
     "output_type": "stream",
     "text": [
      "Container.size 31.25\n"
     ]
    }
   ],
   "source": [
    "# %load ex04-02.py\n",
    "class Container():\n",
    "  child = None\n",
    "  rSize = 0\n",
    "\n",
    "  def setter(self, d_ref):\n",
    "    self.child = d_ref\n",
    "    self.rSize = self.child.getSize() * 2.5\n",
    "\n",
    "  def getSize(self):\n",
    "    return self.rSize\n",
    "\n",
    "\n",
    "class Desk():\n",
    "  dSize = 0\n",
    "\n",
    "  def __init__(self):\n",
    "    self.dSize = 12.5\n",
    "\n",
    "  def getSize(self):\n",
    "    return self.dSize\n",
    "\n",
    "\n",
    "if __name__ == '__main__':\n",
    "  aDesk = Desk()\n",
    "  aContainer = Container()\n",
    "  aContainer.setter(aDesk)\n",
    "  print(\"Container.size\", aContainer.getSize())"
   ]
  },
  {
   "cell_type": "code",
   "execution_count": 14,
   "metadata": {},
   "outputs": [
    {
     "name": "stdout",
     "output_type": "stream",
     "text": [
      "Desk.size 12.5\n"
     ]
    }
   ],
   "source": [
    "# %load ex04-03.py\n",
    "class Container():\n",
    "  child = None\n",
    "  rSize = 0\n",
    "\n",
    "  def setter(self, d_ref):\n",
    "    self.child = d_ref\n",
    "    self.rSize = 31.25\n",
    "    self.child.setter(self)\n",
    "\n",
    "  def getSize(self):\n",
    "    return self.rSize\n",
    "\n",
    "\n",
    "class Desk():\n",
    "  parent = None\n",
    "  dSize = 0\n",
    "\n",
    "  def setter(self, c_ref):\n",
    "    self.parent = c_ref\n",
    "    self.dSize = self.parent.getSize() / 2.5\n",
    "\n",
    "  def getSize(self):\n",
    "    return self.dSize\n",
    "\n",
    "\n",
    "if __name__ == '__main__':\n",
    "  aDesk = Desk()\n",
    "  aContainer = Container()\n",
    "  aContainer.setter(aDesk)\n",
    "  print(\"Desk.size\", aDesk.getSize())"
   ]
  },
  {
   "cell_type": "markdown",
   "metadata": {},
   "source": [
    "## 4.3 self(2)"
   ]
  },
  {
   "cell_type": "code",
   "execution_count": 15,
   "metadata": {},
   "outputs": [
    {
     "name": "stdout",
     "output_type": "stream",
     "text": [
      "Balance is: 480\n"
     ]
    }
   ],
   "source": [
    "# %load ex04-04.py\n",
    "class Money():\n",
    "  def __init__(self, amt):\n",
    "    self.balance = amt\n",
    "\n",
    "  def add(self, saving):\n",
    "    self.balance += saving\n",
    "\n",
    "  def display(self):\n",
    "    print(\"Balance is:\", self.balance)\n",
    "\n",
    "\n",
    "if __name__ == '__main__':\n",
    "  orange = Money(100)\n",
    "  orange.add(300)\n",
    "  orange.add(80)\n",
    "  orange.display()"
   ]
  },
  {
   "cell_type": "code",
   "execution_count": 16,
   "metadata": {},
   "outputs": [
    {
     "name": "stdout",
     "output_type": "stream",
     "text": [
      "Balance is: 480\n"
     ]
    }
   ],
   "source": [
    "# %load ex04-05.py\n",
    "class Money():\n",
    "  def __init__(self, amt):\n",
    "    self.balance = amt\n",
    "\n",
    "  def add(self, saving):\n",
    "    self.balance += saving\n",
    "    return self\n",
    "\n",
    "  def display(self):\n",
    "    print(\"Balance is:\", self.balance)\n",
    "\n",
    "\n",
    "if __name__ == '__main__':\n",
    "  orange = Money(100)\n",
    "  orange.add(300).add(80)\n",
    "  orange.display()"
   ]
  },
  {
   "cell_type": "code",
   "execution_count": 17,
   "metadata": {},
   "outputs": [
    {
     "name": "stdout",
     "output_type": "stream",
     "text": [
      "Balance is: 480\n"
     ]
    }
   ],
   "source": [
    "# %load ex04-06.py\n",
    "class Money():\n",
    "  def __init__(self, amt):\n",
    "    self.balance = amt\n",
    "\n",
    "  def add(self, saving):\n",
    "    self.balance += saving\n",
    "    return self\n",
    "\n",
    "  def display(self):\n",
    "    print(\"Balance is:\", self.balance)\n",
    "\n",
    "\n",
    "if __name__ == '__main__':\n",
    "  orange = Money(100)\n",
    "  orange.add(300).add(80).display()"
   ]
  },
  {
   "cell_type": "markdown",
   "metadata": {},
   "source": [
    "## self"
   ]
  },
  {
   "cell_type": "code",
   "execution_count": 18,
   "metadata": {},
   "outputs": [
    {
     "name": "stdout",
     "output_type": "stream",
     "text": [
      "Balance is: 480\n"
     ]
    }
   ],
   "source": [
    "# %load ex04-07.py\n",
    "class Money():\n",
    "  def __init__(self, amt):\n",
    "    self.balance = amt\n",
    "\n",
    "  def add(self, saving):\n",
    "    newObj = Money(self.balance + saving)\n",
    "    return newObj\n",
    "    # self.balance += saving\n",
    "    # return self\n",
    "\n",
    "  def display(self):\n",
    "    print(\"Balance is:\", self.balance)\n",
    "\n",
    "\n",
    "if __name__ == '__main__':\n",
    "  orange = Money(100)\n",
    "  orange.add(300).add(80).display()"
   ]
  },
  {
   "cell_type": "code",
   "execution_count": 19,
   "metadata": {},
   "outputs": [
    {
     "name": "stdout",
     "output_type": "stream",
     "text": [
      "Balance is: 100\n",
      "Balance is: 400\n",
      "Balance is: 480\n"
     ]
    }
   ],
   "source": [
    "# %load ex04-08.py\n",
    "class Money():\n",
    "  def __init__(self, amt):\n",
    "    self.balance = amt\n",
    "\n",
    "  def add(self, saving):\n",
    "    newObj = Money(self.balance + saving)\n",
    "    return newObj\n",
    "    # self.balance += saving\n",
    "    # return self\n",
    "\n",
    "  def display(self):\n",
    "    print(\"Balance is:\", self.balance)\n",
    "    return self\n",
    "\n",
    "\n",
    "if __name__ == '__main__':\n",
    "  orange = Money(100)\n",
    "  orange.display().add(300).display().add(80).display()"
   ]
  },
  {
   "cell_type": "markdown",
   "metadata": {},
   "source": [
    "## 4.5 集合物件"
   ]
  },
  {
   "cell_type": "code",
   "execution_count": 20,
   "metadata": {},
   "outputs": [
    {
     "name": "stdout",
     "output_type": "stream",
     "text": [
      "Manager:  James Lin\n",
      "Coach:  David Wang\n",
      "\n",
      "Players: \n",
      "  Jim Lin\n",
      "  Alvin Kao\n",
      "  John Coppin\n"
     ]
    }
   ],
   "source": [
    "# %load ex04-09.py\n",
    "class Person():\n",
    "  pname = None\n",
    "\n",
    "  def getName(self):\n",
    "    return self.pname\n",
    "\n",
    "  def setName(self, value):\n",
    "    self.pname = value\n",
    "\n",
    "\n",
    "class Baseball_team():\n",
    "  manager = None\n",
    "  coach = None\n",
    "  players = []\n",
    "\n",
    "  def __init__(self):\n",
    "    self.manager = Person()\n",
    "    self.coach = Person()\n",
    "    self.idx = 0\n",
    "\n",
    "  def setManager(self, m):\n",
    "    self.manager.setName(m)\n",
    "\n",
    "  def setCoach(self, c):\n",
    "    self.coach.setName(c)\n",
    "\n",
    "  def addPlayer(self, name):\n",
    "    p = Person()\n",
    "    p.setName(name)\n",
    "    self.players.append(p)\n",
    "    self.idx += 1\n",
    "\n",
    "  def display(self):\n",
    "    print(\"Manager: \", self.manager.getName())\n",
    "    print(\"Coach: \", self.coach.getName())\n",
    "    print(\"\")\n",
    "    print(\"Players: \")\n",
    "    for i in range(0, self.idx, 1):\n",
    "      print(\" \", self.players[i].getName())\n",
    "\n",
    "\n",
    "if __name__ == '__main__':\n",
    "  RedSock = Baseball_team()\n",
    "  RedSock.setManager(\"James Lin\")\n",
    "  RedSock.setCoach(\"David Wang\")\n",
    "  RedSock.addPlayer(\"Jim Lin\")\n",
    "  RedSock.addPlayer(\"Alvin Kao\")\n",
    "  RedSock.addPlayer(\"John Coppin\")\n",
    "  RedSock.display()"
   ]
  }
 ],
 "metadata": {
  "kernelspec": {
   "display_name": "Python 3",
   "language": "python",
   "name": "python3"
  },
  "language_info": {
   "codemirror_mode": {
    "name": "ipython",
    "version": 3
   },
   "file_extension": ".py",
   "mimetype": "text/x-python",
   "name": "python",
   "nbconvert_exporter": "python",
   "pygments_lexer": "ipython3",
   "version": "3.8.3"
  },
  "toc": {
   "base_numbering": 1,
   "nav_menu": {},
   "number_sections": true,
   "sideBar": true,
   "skip_h1_title": false,
   "title_cell": "Table of Contents",
   "title_sidebar": "Contents",
   "toc_cell": false,
   "toc_position": {},
   "toc_section_display": true,
   "toc_window_display": false
  },
  "varInspector": {
   "cols": {
    "lenName": 16,
    "lenType": 16,
    "lenVar": 40
   },
   "kernels_config": {
    "python": {
     "delete_cmd_postfix": "",
     "delete_cmd_prefix": "del ",
     "library": "var_list.py",
     "varRefreshCmd": "print(var_dic_list())"
    },
    "r": {
     "delete_cmd_postfix": ") ",
     "delete_cmd_prefix": "rm(",
     "library": "var_list.r",
     "varRefreshCmd": "cat(var_dic_list()) "
    }
   },
   "types_to_exclude": [
    "module",
    "function",
    "builtin_function_or_method",
    "instance",
    "_Feature"
   ],
   "window_display": false
  }
 },
 "nbformat": 4,
 "nbformat_minor": 4
}