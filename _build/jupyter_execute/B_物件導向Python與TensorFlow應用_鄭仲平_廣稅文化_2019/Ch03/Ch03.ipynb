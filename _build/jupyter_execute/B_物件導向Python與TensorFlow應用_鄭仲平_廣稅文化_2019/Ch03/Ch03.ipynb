{
 "cells": [
  {
   "cell_type": "markdown",
   "metadata": {},
   "source": [
    "# Ch03 類別"
   ]
  },
  {
   "cell_type": "markdown",
   "metadata": {},
   "source": [
    "## 3.2 如何產生物件"
   ]
  },
  {
   "cell_type": "code",
   "execution_count": 8,
   "metadata": {},
   "outputs": [
    {
     "name": "stdout",
     "output_type": "stream",
     "text": [
      "Color is RED\n"
     ]
    }
   ],
   "source": [
    "# %load ex03-01.py\n",
    "class Rose():\n",
    "  price = 10.25\n",
    "  month = 10\n",
    "\n",
    "  def say(self):\n",
    "    print(\"Color is RED\")\n",
    "\n",
    "\n",
    "if __name__ == '__main__':\n",
    "  rose = Rose()\n",
    "  rose.say()"
   ]
  },
  {
   "cell_type": "markdown",
   "metadata": {},
   "source": [
    "## 3.3 Object Reference"
   ]
  },
  {
   "cell_type": "code",
   "execution_count": 9,
   "metadata": {},
   "outputs": [
    {
     "name": "stdout",
     "output_type": "stream",
     "text": [
      "Month: 10\n",
      "Month: 6\n"
     ]
    }
   ],
   "source": [
    "# %load ex03-02.py\n",
    "class Rose():\n",
    "  price = 0\n",
    "  month = 0\n",
    "\n",
    "  def __init__(self, p, m):\n",
    "    self.price = p\n",
    "    self.month = m\n",
    "\n",
    "  def get_month(self):\n",
    "    return self.month\n",
    "\n",
    "\n",
    "if __name__ == '__main__':\n",
    "\n",
    "  def display(x):\n",
    "    print(\"Month:\", x.get_month())\n",
    "\n",
    "  r1 = Rose(10.25, 10)\n",
    "  r2 = Rose(8.5, 6)\n",
    "\n",
    "  display(r1)\n",
    "  display(r2)"
   ]
  },
  {
   "cell_type": "code",
   "execution_count": 10,
   "metadata": {},
   "outputs": [
    {
     "name": "stdout",
     "output_type": "stream",
     "text": [
      "Month: 3\n"
     ]
    }
   ],
   "source": [
    "# %load ex03-03.py\n",
    "class Rose():\n",
    "  price = 0\n",
    "  month = 0\n",
    "\n",
    "  def __init__(self, p, m):\n",
    "    self.price = p\n",
    "    self.month = m\n",
    "\n",
    "  def get_month(self):\n",
    "    return self.month\n",
    "\n",
    "\n",
    "if __name__ == '__main__':\n",
    "\n",
    "  def create_object():\n",
    "    r = Rose(8.28, 3)\n",
    "    return r\n",
    "\n",
    "  rose = create_object()\n",
    "\n",
    "  print(\"Month:\", rose.get_month())"
   ]
  },
  {
   "cell_type": "markdown",
   "metadata": {},
   "source": [
    "## 3.4 Constructor"
   ]
  },
  {
   "cell_type": "code",
   "execution_count": 11,
   "metadata": {},
   "outputs": [
    {
     "name": "stdout",
     "output_type": "stream",
     "text": [
      "Month: 3\n"
     ]
    }
   ],
   "source": [
    "# %load ex03-04.py\n",
    "class Rose():\n",
    "  price = 0\n",
    "  month = 0\n",
    "\n",
    "  def __init__(self, p, m):\n",
    "    self.price = p\n",
    "    self.month = m\n",
    "\n",
    "  def get_month(self):\n",
    "    return self.month\n",
    "\n",
    "\n",
    "if __name__ == '__main__':\n",
    "  rose = Rose(8.28, 3)\n",
    "  print(\"Month:\", rose.get_month())"
   ]
  },
  {
   "cell_type": "markdown",
   "metadata": {},
   "source": [
    "## 3.5 子類別"
   ]
  },
  {
   "cell_type": "code",
   "execution_count": 12,
   "metadata": {},
   "outputs": [
    {
     "name": "stdout",
     "output_type": "stream",
     "text": [
      "Name: Steven: B.Year: 1999\n",
      "Salary: 35000\n"
     ]
    }
   ],
   "source": [
    "# %load ex03-05.py\n",
    "class Person():\n",
    "  def __init__(self, na, a):\n",
    "    self.name = na\n",
    "    self.age = a\n",
    "\n",
    "  def birth_year(self):\n",
    "    return 2019 - self.age\n",
    "\n",
    "  def display(self):\n",
    "    print(\"Name:\", self.name, \"B.Year:\", self.birth_year())\n",
    "\n",
    "\n",
    "class Teacher(Person):\n",
    "  def __init__(self, na, a, s):\n",
    "    super().__init__(na, a)\n",
    "    self.salary = s\n",
    "\n",
    "  def display(self):\n",
    "    super().display()\n",
    "    print(\"Salary:\", self.salary)\n",
    "\n",
    "\n",
    "if __name__ == '__main__':\n",
    "  tr = Teacher(\"Steven:\", 20, 35000)\n",
    "  tr.display()"
   ]
  }
 ],
 "metadata": {
  "kernelspec": {
   "display_name": "Python 3",
   "language": "python",
   "name": "python3"
  },
  "language_info": {
   "codemirror_mode": {
    "name": "ipython",
    "version": 3
   },
   "file_extension": ".py",
   "mimetype": "text/x-python",
   "name": "python",
   "nbconvert_exporter": "python",
   "pygments_lexer": "ipython3",
   "version": "3.8.3"
  },
  "toc": {
   "base_numbering": 1,
   "nav_menu": {},
   "number_sections": true,
   "sideBar": true,
   "skip_h1_title": false,
   "title_cell": "Table of Contents",
   "title_sidebar": "Contents",
   "toc_cell": false,
   "toc_position": {},
   "toc_section_display": true,
   "toc_window_display": false
  },
  "varInspector": {
   "cols": {
    "lenName": 16,
    "lenType": 16,
    "lenVar": 40
   },
   "kernels_config": {
    "python": {
     "delete_cmd_postfix": "",
     "delete_cmd_prefix": "del ",
     "library": "var_list.py",
     "varRefreshCmd": "print(var_dic_list())"
    },
    "r": {
     "delete_cmd_postfix": ") ",
     "delete_cmd_prefix": "rm(",
     "library": "var_list.r",
     "varRefreshCmd": "cat(var_dic_list()) "
    }
   },
   "types_to_exclude": [
    "module",
    "function",
    "builtin_function_or_method",
    "instance",
    "_Feature"
   ],
   "window_display": false
  }
 },
 "nbformat": 4,
 "nbformat_minor": 4
}